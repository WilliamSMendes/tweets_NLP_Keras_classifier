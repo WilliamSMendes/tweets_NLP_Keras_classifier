{
 "cells": [
  {
   "cell_type": "code",
   "execution_count": 1,
   "id": "advance-birmingham",
   "metadata": {
    "execution": {
     "iopub.execute_input": "2021-05-27T15:46:37.979983Z",
     "iopub.status.busy": "2021-05-27T15:46:37.979274Z",
     "iopub.status.idle": "2021-05-27T15:46:46.401934Z",
     "shell.execute_reply": "2021-05-27T15:46:46.400680Z",
     "shell.execute_reply.started": "2021-05-27T15:44:46.413694Z"
    },
    "papermill": {
     "duration": 8.49018,
     "end_time": "2021-05-27T15:46:46.402131",
     "exception": false,
     "start_time": "2021-05-27T15:46:37.911951",
     "status": "completed"
    },
    "tags": []
   },
   "outputs": [],
   "source": [
    "import pandas as pd\n",
    "import numpy as np\n",
    "import re\n",
    "import nltk\n",
    "\n",
    "import matplotlib.pyplot as plt\n",
    "%matplotlib inline\n",
    "import seaborn as sns\n",
    "\n",
    "from nltk.stem import WordNetLemmatizer\n",
    "from nltk.stem.snowball import SnowballStemmer\n",
    "from wordcloud import WordCloud\n",
    "\n",
    "import keras\n",
    "from keras.models import Sequential\n",
    "from keras.layers import Dense\n",
    "\n",
    "from tensorflow.keras.preprocessing.text import Tokenizer\n",
    "from tensorflow.keras.preprocessing.sequence import pad_sequences\n",
    "import tensorflow as tf\n",
    "\n",
    "from sklearn.metrics import classification_report,confusion_matrix"
   ]
  },
  {
   "cell_type": "code",
   "execution_count": 2,
   "id": "temporal-bosnia",
   "metadata": {
    "execution": {
     "iopub.execute_input": "2021-05-27T15:46:46.520109Z",
     "iopub.status.busy": "2021-05-27T15:46:46.519340Z",
     "iopub.status.idle": "2021-05-27T15:46:46.601803Z",
     "shell.execute_reply": "2021-05-27T15:46:46.601122Z",
     "shell.execute_reply.started": "2021-05-27T15:44:49.004361Z"
    },
    "papermill": {
     "duration": 0.145559,
     "end_time": "2021-05-27T15:46:46.601963",
     "exception": false,
     "start_time": "2021-05-27T15:46:46.456404",
     "status": "completed"
    },
    "tags": []
   },
   "outputs": [],
   "source": [
    "train = pd.read_csv('../input/nlp-getting-started/train.csv')\n",
    "test = pd.read_csv('../input/nlp-getting-started/test.csv')"
   ]
  },
  {
   "cell_type": "markdown",
   "id": "growing-refund",
   "metadata": {
    "papermill": {
     "duration": 0.053087,
     "end_time": "2021-05-27T15:46:46.709675",
     "exception": false,
     "start_time": "2021-05-27T15:46:46.656588",
     "status": "completed"
    },
    "tags": []
   },
   "source": [
    "## Análise exploratória dos dados"
   ]
  },
  {
   "cell_type": "code",
   "execution_count": 3,
   "id": "digital-folks",
   "metadata": {
    "execution": {
     "iopub.execute_input": "2021-05-27T15:46:46.831355Z",
     "iopub.status.busy": "2021-05-27T15:46:46.830651Z",
     "iopub.status.idle": "2021-05-27T15:46:46.852389Z",
     "shell.execute_reply": "2021-05-27T15:46:46.851713Z",
     "shell.execute_reply.started": "2021-05-27T15:44:49.054592Z"
    },
    "papermill": {
     "duration": 0.089656,
     "end_time": "2021-05-27T15:46:46.852543",
     "exception": false,
     "start_time": "2021-05-27T15:46:46.762887",
     "status": "completed"
    },
    "tags": []
   },
   "outputs": [
    {
     "data": {
      "text/html": [
       "<div>\n",
       "<style scoped>\n",
       "    .dataframe tbody tr th:only-of-type {\n",
       "        vertical-align: middle;\n",
       "    }\n",
       "\n",
       "    .dataframe tbody tr th {\n",
       "        vertical-align: top;\n",
       "    }\n",
       "\n",
       "    .dataframe thead th {\n",
       "        text-align: right;\n",
       "    }\n",
       "</style>\n",
       "<table border=\"1\" class=\"dataframe\">\n",
       "  <thead>\n",
       "    <tr style=\"text-align: right;\">\n",
       "      <th></th>\n",
       "      <th>id</th>\n",
       "      <th>keyword</th>\n",
       "      <th>location</th>\n",
       "      <th>text</th>\n",
       "      <th>target</th>\n",
       "    </tr>\n",
       "  </thead>\n",
       "  <tbody>\n",
       "    <tr>\n",
       "      <th>0</th>\n",
       "      <td>1</td>\n",
       "      <td>NaN</td>\n",
       "      <td>NaN</td>\n",
       "      <td>Our Deeds are the Reason of this #earthquake M...</td>\n",
       "      <td>1</td>\n",
       "    </tr>\n",
       "    <tr>\n",
       "      <th>1</th>\n",
       "      <td>4</td>\n",
       "      <td>NaN</td>\n",
       "      <td>NaN</td>\n",
       "      <td>Forest fire near La Ronge Sask. Canada</td>\n",
       "      <td>1</td>\n",
       "    </tr>\n",
       "    <tr>\n",
       "      <th>2</th>\n",
       "      <td>5</td>\n",
       "      <td>NaN</td>\n",
       "      <td>NaN</td>\n",
       "      <td>All residents asked to 'shelter in place' are ...</td>\n",
       "      <td>1</td>\n",
       "    </tr>\n",
       "    <tr>\n",
       "      <th>3</th>\n",
       "      <td>6</td>\n",
       "      <td>NaN</td>\n",
       "      <td>NaN</td>\n",
       "      <td>13,000 people receive #wildfires evacuation or...</td>\n",
       "      <td>1</td>\n",
       "    </tr>\n",
       "    <tr>\n",
       "      <th>4</th>\n",
       "      <td>7</td>\n",
       "      <td>NaN</td>\n",
       "      <td>NaN</td>\n",
       "      <td>Just got sent this photo from Ruby #Alaska as ...</td>\n",
       "      <td>1</td>\n",
       "    </tr>\n",
       "  </tbody>\n",
       "</table>\n",
       "</div>"
      ],
      "text/plain": [
       "   id keyword location                                               text  \\\n",
       "0   1     NaN      NaN  Our Deeds are the Reason of this #earthquake M...   \n",
       "1   4     NaN      NaN             Forest fire near La Ronge Sask. Canada   \n",
       "2   5     NaN      NaN  All residents asked to 'shelter in place' are ...   \n",
       "3   6     NaN      NaN  13,000 people receive #wildfires evacuation or...   \n",
       "4   7     NaN      NaN  Just got sent this photo from Ruby #Alaska as ...   \n",
       "\n",
       "   target  \n",
       "0       1  \n",
       "1       1  \n",
       "2       1  \n",
       "3       1  \n",
       "4       1  "
      ]
     },
     "execution_count": 3,
     "metadata": {},
     "output_type": "execute_result"
    }
   ],
   "source": [
    "train.head()"
   ]
  },
  {
   "cell_type": "code",
   "execution_count": 4,
   "id": "promising-broadway",
   "metadata": {
    "execution": {
     "iopub.execute_input": "2021-05-27T15:46:46.983927Z",
     "iopub.status.busy": "2021-05-27T15:46:46.983156Z",
     "iopub.status.idle": "2021-05-27T15:46:46.988846Z",
     "shell.execute_reply": "2021-05-27T15:46:46.987848Z",
     "shell.execute_reply.started": "2021-05-27T15:44:49.078554Z"
    },
    "papermill": {
     "duration": 0.082429,
     "end_time": "2021-05-27T15:46:46.989057",
     "exception": false,
     "start_time": "2021-05-27T15:46:46.906628",
     "status": "completed"
    },
    "tags": []
   },
   "outputs": [
    {
     "name": "stdout",
     "output_type": "stream",
     "text": [
      "<class 'pandas.core.frame.DataFrame'>\n",
      "RangeIndex: 7613 entries, 0 to 7612\n",
      "Data columns (total 5 columns):\n",
      " #   Column    Non-Null Count  Dtype \n",
      "---  ------    --------------  ----- \n",
      " 0   id        7613 non-null   int64 \n",
      " 1   keyword   7552 non-null   object\n",
      " 2   location  5080 non-null   object\n",
      " 3   text      7613 non-null   object\n",
      " 4   target    7613 non-null   int64 \n",
      "dtypes: int64(2), object(3)\n",
      "memory usage: 297.5+ KB\n"
     ]
    }
   ],
   "source": [
    "train.info()"
   ]
  },
  {
   "cell_type": "code",
   "execution_count": 5,
   "id": "accessory-hughes",
   "metadata": {
    "execution": {
     "iopub.execute_input": "2021-05-27T15:46:47.109252Z",
     "iopub.status.busy": "2021-05-27T15:46:47.108203Z",
     "iopub.status.idle": "2021-05-27T15:46:47.116449Z",
     "shell.execute_reply": "2021-05-27T15:46:47.115790Z",
     "shell.execute_reply.started": "2021-05-27T15:44:49.098539Z"
    },
    "papermill": {
     "duration": 0.072526,
     "end_time": "2021-05-27T15:46:47.116617",
     "exception": false,
     "start_time": "2021-05-27T15:46:47.044091",
     "status": "completed"
    },
    "tags": []
   },
   "outputs": [
    {
     "data": {
      "text/plain": [
       "id             0\n",
       "keyword       61\n",
       "location    2533\n",
       "text           0\n",
       "dtype: int64"
      ]
     },
     "execution_count": 5,
     "metadata": {},
     "output_type": "execute_result"
    }
   ],
   "source": [
    "train[['id', 'keyword', 'location', 'text']].isnull().sum()"
   ]
  },
  {
   "cell_type": "code",
   "execution_count": 6,
   "id": "consistent-panic",
   "metadata": {
    "execution": {
     "iopub.execute_input": "2021-05-27T15:46:47.238107Z",
     "iopub.status.busy": "2021-05-27T15:46:47.237309Z",
     "iopub.status.idle": "2021-05-27T15:46:47.262059Z",
     "shell.execute_reply": "2021-05-27T15:46:47.261363Z",
     "shell.execute_reply.started": "2021-05-27T15:44:49.120031Z"
    },
    "papermill": {
     "duration": 0.090399,
     "end_time": "2021-05-27T15:46:47.262209",
     "exception": false,
     "start_time": "2021-05-27T15:46:47.171810",
     "status": "completed"
    },
    "tags": []
   },
   "outputs": [
    {
     "data": {
      "text/plain": [
       "count                                                  7613\n",
       "unique                                                 7503\n",
       "top       11-Year-Old Boy Charged With Manslaughter of T...\n",
       "freq                                                     10\n",
       "Name: text, dtype: object"
      ]
     },
     "execution_count": 6,
     "metadata": {},
     "output_type": "execute_result"
    }
   ],
   "source": [
    "train['text'].describe()"
   ]
  },
  {
   "cell_type": "markdown",
   "id": "thermal-registrar",
   "metadata": {
    "papermill": {
     "duration": 0.053837,
     "end_time": "2021-05-27T15:46:47.372517",
     "exception": false,
     "start_time": "2021-05-27T15:46:47.318680",
     "status": "completed"
    },
    "tags": []
   },
   "source": [
    "# Visualizando alguns gráficos"
   ]
  },
  {
   "cell_type": "code",
   "execution_count": 7,
   "id": "scientific-flour",
   "metadata": {
    "execution": {
     "iopub.execute_input": "2021-05-27T15:46:47.484879Z",
     "iopub.status.busy": "2021-05-27T15:46:47.484154Z",
     "iopub.status.idle": "2021-05-27T15:46:50.498726Z",
     "shell.execute_reply": "2021-05-27T15:46:50.498122Z",
     "shell.execute_reply.started": "2021-05-27T15:44:49.151097Z"
    },
    "papermill": {
     "duration": 3.071916,
     "end_time": "2021-05-27T15:46:50.498881",
     "exception": false,
     "start_time": "2021-05-27T15:46:47.426965",
     "status": "completed"
    },
    "tags": []
   },
   "outputs": [
    {
     "data": {
      "text/html": [
       "        <script type=\"text/javascript\">\n",
       "        window.PlotlyConfig = {MathJaxConfig: 'local'};\n",
       "        if (window.MathJax) {MathJax.Hub.Config({SVG: {font: \"STIX-Web\"}});}\n",
       "        if (typeof require !== 'undefined') {\n",
       "        require.undef(\"plotly\");\n",
       "        requirejs.config({\n",
       "            paths: {\n",
       "                'plotly': ['https://cdn.plot.ly/plotly-latest.min']\n",
       "            }\n",
       "        });\n",
       "        require(['plotly'], function(Plotly) {\n",
       "            window._Plotly = Plotly;\n",
       "        });\n",
       "        }\n",
       "        </script>\n",
       "        "
      ]
     },
     "metadata": {},
     "output_type": "display_data"
    }
   ],
   "source": [
    "import cufflinks as cf\n",
    "cf.go_offline()\n",
    "cf.set_config_file(offline=False, world_readable=True)"
   ]
  },
  {
   "cell_type": "code",
   "execution_count": 8,
   "id": "disabled-punch",
   "metadata": {
    "execution": {
     "iopub.execute_input": "2021-05-27T15:46:50.629577Z",
     "iopub.status.busy": "2021-05-27T15:46:50.627605Z",
     "iopub.status.idle": "2021-05-27T15:46:51.614584Z",
     "shell.execute_reply": "2021-05-27T15:46:51.613861Z",
     "shell.execute_reply.started": "2021-05-27T15:45:11.117735Z"
    },
    "papermill": {
     "duration": 1.060576,
     "end_time": "2021-05-27T15:46:51.614747",
     "exception": false,
     "start_time": "2021-05-27T15:46:50.554171",
     "status": "completed"
    },
    "tags": []
   },
   "outputs": [
    {
     "data": {
      "application/vnd.plotly.v1+json": {
       "config": {
        "linkText": "Export to plot.ly",
        "plotlyServerURL": "https://plot.ly",
        "showLink": true
       },
       "data": [
        {
         "marker": {
          "color": "rgba(55, 128, 191, 0.6)",
          "line": {
           "color": "rgba(55, 128, 191, 1.0)",
           "width": 1
          }
         },
         "name": "target",
         "orientation": "v",
         "text": [
          "Fake",
          "Real"
         ],
         "type": "bar",
         "x": [
          0,
          1
         ],
         "y": [
          4342,
          3271
         ]
        }
       ],
       "layout": {
        "legend": {
         "bgcolor": "#F5F6F9",
         "font": {
          "color": "#4D5663"
         }
        },
        "paper_bgcolor": "#F5F6F9",
        "plot_bgcolor": "#F5F6F9",
        "template": {
         "data": {
          "bar": [
           {
            "error_x": {
             "color": "#2a3f5f"
            },
            "error_y": {
             "color": "#2a3f5f"
            },
            "marker": {
             "line": {
              "color": "#E5ECF6",
              "width": 0.5
             }
            },
            "type": "bar"
           }
          ],
          "barpolar": [
           {
            "marker": {
             "line": {
              "color": "#E5ECF6",
              "width": 0.5
             }
            },
            "type": "barpolar"
           }
          ],
          "carpet": [
           {
            "aaxis": {
             "endlinecolor": "#2a3f5f",
             "gridcolor": "white",
             "linecolor": "white",
             "minorgridcolor": "white",
             "startlinecolor": "#2a3f5f"
            },
            "baxis": {
             "endlinecolor": "#2a3f5f",
             "gridcolor": "white",
             "linecolor": "white",
             "minorgridcolor": "white",
             "startlinecolor": "#2a3f5f"
            },
            "type": "carpet"
           }
          ],
          "choropleth": [
           {
            "colorbar": {
             "outlinewidth": 0,
             "ticks": ""
            },
            "type": "choropleth"
           }
          ],
          "contour": [
           {
            "colorbar": {
             "outlinewidth": 0,
             "ticks": ""
            },
            "colorscale": [
             [
              0.0,
              "#0d0887"
             ],
             [
              0.1111111111111111,
              "#46039f"
             ],
             [
              0.2222222222222222,
              "#7201a8"
             ],
             [
              0.3333333333333333,
              "#9c179e"
             ],
             [
              0.4444444444444444,
              "#bd3786"
             ],
             [
              0.5555555555555556,
              "#d8576b"
             ],
             [
              0.6666666666666666,
              "#ed7953"
             ],
             [
              0.7777777777777778,
              "#fb9f3a"
             ],
             [
              0.8888888888888888,
              "#fdca26"
             ],
             [
              1.0,
              "#f0f921"
             ]
            ],
            "type": "contour"
           }
          ],
          "contourcarpet": [
           {
            "colorbar": {
             "outlinewidth": 0,
             "ticks": ""
            },
            "type": "contourcarpet"
           }
          ],
          "heatmap": [
           {
            "colorbar": {
             "outlinewidth": 0,
             "ticks": ""
            },
            "colorscale": [
             [
              0.0,
              "#0d0887"
             ],
             [
              0.1111111111111111,
              "#46039f"
             ],
             [
              0.2222222222222222,
              "#7201a8"
             ],
             [
              0.3333333333333333,
              "#9c179e"
             ],
             [
              0.4444444444444444,
              "#bd3786"
             ],
             [
              0.5555555555555556,
              "#d8576b"
             ],
             [
              0.6666666666666666,
              "#ed7953"
             ],
             [
              0.7777777777777778,
              "#fb9f3a"
             ],
             [
              0.8888888888888888,
              "#fdca26"
             ],
             [
              1.0,
              "#f0f921"
             ]
            ],
            "type": "heatmap"
           }
          ],
          "heatmapgl": [
           {
            "colorbar": {
             "outlinewidth": 0,
             "ticks": ""
            },
            "colorscale": [
             [
              0.0,
              "#0d0887"
             ],
             [
              0.1111111111111111,
              "#46039f"
             ],
             [
              0.2222222222222222,
              "#7201a8"
             ],
             [
              0.3333333333333333,
              "#9c179e"
             ],
             [
              0.4444444444444444,
              "#bd3786"
             ],
             [
              0.5555555555555556,
              "#d8576b"
             ],
             [
              0.6666666666666666,
              "#ed7953"
             ],
             [
              0.7777777777777778,
              "#fb9f3a"
             ],
             [
              0.8888888888888888,
              "#fdca26"
             ],
             [
              1.0,
              "#f0f921"
             ]
            ],
            "type": "heatmapgl"
           }
          ],
          "histogram": [
           {
            "marker": {
             "colorbar": {
              "outlinewidth": 0,
              "ticks": ""
             }
            },
            "type": "histogram"
           }
          ],
          "histogram2d": [
           {
            "colorbar": {
             "outlinewidth": 0,
             "ticks": ""
            },
            "colorscale": [
             [
              0.0,
              "#0d0887"
             ],
             [
              0.1111111111111111,
              "#46039f"
             ],
             [
              0.2222222222222222,
              "#7201a8"
             ],
             [
              0.3333333333333333,
              "#9c179e"
             ],
             [
              0.4444444444444444,
              "#bd3786"
             ],
             [
              0.5555555555555556,
              "#d8576b"
             ],
             [
              0.6666666666666666,
              "#ed7953"
             ],
             [
              0.7777777777777778,
              "#fb9f3a"
             ],
             [
              0.8888888888888888,
              "#fdca26"
             ],
             [
              1.0,
              "#f0f921"
             ]
            ],
            "type": "histogram2d"
           }
          ],
          "histogram2dcontour": [
           {
            "colorbar": {
             "outlinewidth": 0,
             "ticks": ""
            },
            "colorscale": [
             [
              0.0,
              "#0d0887"
             ],
             [
              0.1111111111111111,
              "#46039f"
             ],
             [
              0.2222222222222222,
              "#7201a8"
             ],
             [
              0.3333333333333333,
              "#9c179e"
             ],
             [
              0.4444444444444444,
              "#bd3786"
             ],
             [
              0.5555555555555556,
              "#d8576b"
             ],
             [
              0.6666666666666666,
              "#ed7953"
             ],
             [
              0.7777777777777778,
              "#fb9f3a"
             ],
             [
              0.8888888888888888,
              "#fdca26"
             ],
             [
              1.0,
              "#f0f921"
             ]
            ],
            "type": "histogram2dcontour"
           }
          ],
          "mesh3d": [
           {
            "colorbar": {
             "outlinewidth": 0,
             "ticks": ""
            },
            "type": "mesh3d"
           }
          ],
          "parcoords": [
           {
            "line": {
             "colorbar": {
              "outlinewidth": 0,
              "ticks": ""
             }
            },
            "type": "parcoords"
           }
          ],
          "pie": [
           {
            "automargin": true,
            "type": "pie"
           }
          ],
          "scatter": [
           {
            "marker": {
             "colorbar": {
              "outlinewidth": 0,
              "ticks": ""
             }
            },
            "type": "scatter"
           }
          ],
          "scatter3d": [
           {
            "line": {
             "colorbar": {
              "outlinewidth": 0,
              "ticks": ""
             }
            },
            "marker": {
             "colorbar": {
              "outlinewidth": 0,
              "ticks": ""
             }
            },
            "type": "scatter3d"
           }
          ],
          "scattercarpet": [
           {
            "marker": {
             "colorbar": {
              "outlinewidth": 0,
              "ticks": ""
             }
            },
            "type": "scattercarpet"
           }
          ],
          "scattergeo": [
           {
            "marker": {
             "colorbar": {
              "outlinewidth": 0,
              "ticks": ""
             }
            },
            "type": "scattergeo"
           }
          ],
          "scattergl": [
           {
            "marker": {
             "colorbar": {
              "outlinewidth": 0,
              "ticks": ""
             }
            },
            "type": "scattergl"
           }
          ],
          "scattermapbox": [
           {
            "marker": {
             "colorbar": {
              "outlinewidth": 0,
              "ticks": ""
             }
            },
            "type": "scattermapbox"
           }
          ],
          "scatterpolar": [
           {
            "marker": {
             "colorbar": {
              "outlinewidth": 0,
              "ticks": ""
             }
            },
            "type": "scatterpolar"
           }
          ],
          "scatterpolargl": [
           {
            "marker": {
             "colorbar": {
              "outlinewidth": 0,
              "ticks": ""
             }
            },
            "type": "scatterpolargl"
           }
          ],
          "scatterternary": [
           {
            "marker": {
             "colorbar": {
              "outlinewidth": 0,
              "ticks": ""
             }
            },
            "type": "scatterternary"
           }
          ],
          "surface": [
           {
            "colorbar": {
             "outlinewidth": 0,
             "ticks": ""
            },
            "colorscale": [
             [
              0.0,
              "#0d0887"
             ],
             [
              0.1111111111111111,
              "#46039f"
             ],
             [
              0.2222222222222222,
              "#7201a8"
             ],
             [
              0.3333333333333333,
              "#9c179e"
             ],
             [
              0.4444444444444444,
              "#bd3786"
             ],
             [
              0.5555555555555556,
              "#d8576b"
             ],
             [
              0.6666666666666666,
              "#ed7953"
             ],
             [
              0.7777777777777778,
              "#fb9f3a"
             ],
             [
              0.8888888888888888,
              "#fdca26"
             ],
             [
              1.0,
              "#f0f921"
             ]
            ],
            "type": "surface"
           }
          ],
          "table": [
           {
            "cells": {
             "fill": {
              "color": "#EBF0F8"
             },
             "line": {
              "color": "white"
             }
            },
            "header": {
             "fill": {
              "color": "#C8D4E3"
             },
             "line": {
              "color": "white"
             }
            },
            "type": "table"
           }
          ]
         },
         "layout": {
          "annotationdefaults": {
           "arrowcolor": "#2a3f5f",
           "arrowhead": 0,
           "arrowwidth": 1
          },
          "autotypenumbers": "strict",
          "coloraxis": {
           "colorbar": {
            "outlinewidth": 0,
            "ticks": ""
           }
          },
          "colorscale": {
           "diverging": [
            [
             0,
             "#8e0152"
            ],
            [
             0.1,
             "#c51b7d"
            ],
            [
             0.2,
             "#de77ae"
            ],
            [
             0.3,
             "#f1b6da"
            ],
            [
             0.4,
             "#fde0ef"
            ],
            [
             0.5,
             "#f7f7f7"
            ],
            [
             0.6,
             "#e6f5d0"
            ],
            [
             0.7,
             "#b8e186"
            ],
            [
             0.8,
             "#7fbc41"
            ],
            [
             0.9,
             "#4d9221"
            ],
            [
             1,
             "#276419"
            ]
           ],
           "sequential": [
            [
             0.0,
             "#0d0887"
            ],
            [
             0.1111111111111111,
             "#46039f"
            ],
            [
             0.2222222222222222,
             "#7201a8"
            ],
            [
             0.3333333333333333,
             "#9c179e"
            ],
            [
             0.4444444444444444,
             "#bd3786"
            ],
            [
             0.5555555555555556,
             "#d8576b"
            ],
            [
             0.6666666666666666,
             "#ed7953"
            ],
            [
             0.7777777777777778,
             "#fb9f3a"
            ],
            [
             0.8888888888888888,
             "#fdca26"
            ],
            [
             1.0,
             "#f0f921"
            ]
           ],
           "sequentialminus": [
            [
             0.0,
             "#0d0887"
            ],
            [
             0.1111111111111111,
             "#46039f"
            ],
            [
             0.2222222222222222,
             "#7201a8"
            ],
            [
             0.3333333333333333,
             "#9c179e"
            ],
            [
             0.4444444444444444,
             "#bd3786"
            ],
            [
             0.5555555555555556,
             "#d8576b"
            ],
            [
             0.6666666666666666,
             "#ed7953"
            ],
            [
             0.7777777777777778,
             "#fb9f3a"
            ],
            [
             0.8888888888888888,
             "#fdca26"
            ],
            [
             1.0,
             "#f0f921"
            ]
           ]
          },
          "colorway": [
           "#636efa",
           "#EF553B",
           "#00cc96",
           "#ab63fa",
           "#FFA15A",
           "#19d3f3",
           "#FF6692",
           "#B6E880",
           "#FF97FF",
           "#FECB52"
          ],
          "font": {
           "color": "#2a3f5f"
          },
          "geo": {
           "bgcolor": "white",
           "lakecolor": "white",
           "landcolor": "#E5ECF6",
           "showlakes": true,
           "showland": true,
           "subunitcolor": "white"
          },
          "hoverlabel": {
           "align": "left"
          },
          "hovermode": "closest",
          "mapbox": {
           "style": "light"
          },
          "paper_bgcolor": "white",
          "plot_bgcolor": "#E5ECF6",
          "polar": {
           "angularaxis": {
            "gridcolor": "white",
            "linecolor": "white",
            "ticks": ""
           },
           "bgcolor": "#E5ECF6",
           "radialaxis": {
            "gridcolor": "white",
            "linecolor": "white",
            "ticks": ""
           }
          },
          "scene": {
           "xaxis": {
            "backgroundcolor": "#E5ECF6",
            "gridcolor": "white",
            "gridwidth": 2,
            "linecolor": "white",
            "showbackground": true,
            "ticks": "",
            "zerolinecolor": "white"
           },
           "yaxis": {
            "backgroundcolor": "#E5ECF6",
            "gridcolor": "white",
            "gridwidth": 2,
            "linecolor": "white",
            "showbackground": true,
            "ticks": "",
            "zerolinecolor": "white"
           },
           "zaxis": {
            "backgroundcolor": "#E5ECF6",
            "gridcolor": "white",
            "gridwidth": 2,
            "linecolor": "white",
            "showbackground": true,
            "ticks": "",
            "zerolinecolor": "white"
           }
          },
          "shapedefaults": {
           "line": {
            "color": "#2a3f5f"
           }
          },
          "ternary": {
           "aaxis": {
            "gridcolor": "white",
            "linecolor": "white",
            "ticks": ""
           },
           "baxis": {
            "gridcolor": "white",
            "linecolor": "white",
            "ticks": ""
           },
           "bgcolor": "#E5ECF6",
           "caxis": {
            "gridcolor": "white",
            "linecolor": "white",
            "ticks": ""
           }
          },
          "title": {
           "x": 0.05
          },
          "xaxis": {
           "automargin": true,
           "gridcolor": "white",
           "linecolor": "white",
           "ticks": "",
           "title": {
            "standoff": 15
           },
           "zerolinecolor": "white",
           "zerolinewidth": 2
          },
          "yaxis": {
           "automargin": true,
           "gridcolor": "white",
           "linecolor": "white",
           "ticks": "",
           "title": {
            "standoff": 15
           },
           "zerolinecolor": "white",
           "zerolinewidth": 2
          }
         }
        },
        "title": {
         "font": {
          "color": "#4D5663"
         },
         "text": "Comparando os tweets se são sobre desastres (1) ou não (0)"
        },
        "xaxis": {
         "gridcolor": "#E1E5ED",
         "showgrid": true,
         "tickfont": {
          "color": "#4D5663"
         },
         "title": {
          "font": {
           "color": "#4D5663"
          },
          "text": ""
         },
         "zerolinecolor": "#E1E5ED"
        },
        "yaxis": {
         "gridcolor": "#E1E5ED",
         "showgrid": true,
         "tickfont": {
          "color": "#4D5663"
         },
         "title": {
          "font": {
           "color": "#4D5663"
          },
          "text": ""
         },
         "zerolinecolor": "#E1E5ED"
        }
       }
      },
      "text/html": [
       "<div>                            <div id=\"e496c59d-0ce2-4866-9cc9-3de3772fedbf\" class=\"plotly-graph-div\" style=\"height:525px; width:100%;\"></div>            <script type=\"text/javascript\">                require([\"plotly\"], function(Plotly) {                    window.PLOTLYENV=window.PLOTLYENV || {};\n",
       "                    window.PLOTLYENV.BASE_URL='https://plot.ly';                                    if (document.getElementById(\"e496c59d-0ce2-4866-9cc9-3de3772fedbf\")) {                    Plotly.newPlot(                        \"e496c59d-0ce2-4866-9cc9-3de3772fedbf\",                        [{\"marker\": {\"color\": \"rgba(55, 128, 191, 0.6)\", \"line\": {\"color\": \"rgba(55, 128, 191, 1.0)\", \"width\": 1}}, \"name\": \"target\", \"orientation\": \"v\", \"text\": [\"Fake\", \"Real\"], \"type\": \"bar\", \"x\": [0, 1], \"y\": [4342, 3271]}],                        {\"legend\": {\"bgcolor\": \"#F5F6F9\", \"font\": {\"color\": \"#4D5663\"}}, \"paper_bgcolor\": \"#F5F6F9\", \"plot_bgcolor\": \"#F5F6F9\", \"template\": {\"data\": {\"bar\": [{\"error_x\": {\"color\": \"#2a3f5f\"}, \"error_y\": {\"color\": \"#2a3f5f\"}, \"marker\": {\"line\": {\"color\": \"#E5ECF6\", \"width\": 0.5}}, \"type\": \"bar\"}], \"barpolar\": [{\"marker\": {\"line\": {\"color\": \"#E5ECF6\", \"width\": 0.5}}, \"type\": \"barpolar\"}], \"carpet\": [{\"aaxis\": {\"endlinecolor\": \"#2a3f5f\", \"gridcolor\": \"white\", \"linecolor\": \"white\", \"minorgridcolor\": \"white\", \"startlinecolor\": \"#2a3f5f\"}, \"baxis\": {\"endlinecolor\": \"#2a3f5f\", \"gridcolor\": \"white\", \"linecolor\": \"white\", \"minorgridcolor\": \"white\", \"startlinecolor\": \"#2a3f5f\"}, \"type\": \"carpet\"}], \"choropleth\": [{\"colorbar\": {\"outlinewidth\": 0, \"ticks\": \"\"}, \"type\": \"choropleth\"}], \"contour\": [{\"colorbar\": {\"outlinewidth\": 0, \"ticks\": \"\"}, \"colorscale\": [[0.0, \"#0d0887\"], [0.1111111111111111, \"#46039f\"], [0.2222222222222222, \"#7201a8\"], [0.3333333333333333, \"#9c179e\"], [0.4444444444444444, \"#bd3786\"], [0.5555555555555556, \"#d8576b\"], [0.6666666666666666, \"#ed7953\"], [0.7777777777777778, \"#fb9f3a\"], [0.8888888888888888, \"#fdca26\"], [1.0, \"#f0f921\"]], \"type\": \"contour\"}], \"contourcarpet\": [{\"colorbar\": {\"outlinewidth\": 0, \"ticks\": \"\"}, \"type\": \"contourcarpet\"}], \"heatmap\": [{\"colorbar\": {\"outlinewidth\": 0, \"ticks\": \"\"}, \"colorscale\": [[0.0, \"#0d0887\"], [0.1111111111111111, \"#46039f\"], [0.2222222222222222, \"#7201a8\"], [0.3333333333333333, \"#9c179e\"], [0.4444444444444444, \"#bd3786\"], [0.5555555555555556, \"#d8576b\"], [0.6666666666666666, \"#ed7953\"], [0.7777777777777778, \"#fb9f3a\"], [0.8888888888888888, \"#fdca26\"], [1.0, \"#f0f921\"]], \"type\": \"heatmap\"}], \"heatmapgl\": [{\"colorbar\": {\"outlinewidth\": 0, \"ticks\": \"\"}, \"colorscale\": [[0.0, \"#0d0887\"], [0.1111111111111111, \"#46039f\"], [0.2222222222222222, \"#7201a8\"], [0.3333333333333333, \"#9c179e\"], [0.4444444444444444, \"#bd3786\"], [0.5555555555555556, \"#d8576b\"], [0.6666666666666666, \"#ed7953\"], [0.7777777777777778, \"#fb9f3a\"], [0.8888888888888888, \"#fdca26\"], [1.0, \"#f0f921\"]], \"type\": \"heatmapgl\"}], \"histogram\": [{\"marker\": {\"colorbar\": {\"outlinewidth\": 0, \"ticks\": \"\"}}, \"type\": \"histogram\"}], \"histogram2d\": [{\"colorbar\": {\"outlinewidth\": 0, \"ticks\": \"\"}, \"colorscale\": [[0.0, \"#0d0887\"], [0.1111111111111111, \"#46039f\"], [0.2222222222222222, \"#7201a8\"], [0.3333333333333333, \"#9c179e\"], [0.4444444444444444, \"#bd3786\"], [0.5555555555555556, \"#d8576b\"], [0.6666666666666666, \"#ed7953\"], [0.7777777777777778, \"#fb9f3a\"], [0.8888888888888888, \"#fdca26\"], [1.0, \"#f0f921\"]], \"type\": \"histogram2d\"}], \"histogram2dcontour\": [{\"colorbar\": {\"outlinewidth\": 0, \"ticks\": \"\"}, \"colorscale\": [[0.0, \"#0d0887\"], [0.1111111111111111, \"#46039f\"], [0.2222222222222222, \"#7201a8\"], [0.3333333333333333, \"#9c179e\"], [0.4444444444444444, \"#bd3786\"], [0.5555555555555556, \"#d8576b\"], [0.6666666666666666, \"#ed7953\"], [0.7777777777777778, \"#fb9f3a\"], [0.8888888888888888, \"#fdca26\"], [1.0, \"#f0f921\"]], \"type\": \"histogram2dcontour\"}], \"mesh3d\": [{\"colorbar\": {\"outlinewidth\": 0, \"ticks\": \"\"}, \"type\": \"mesh3d\"}], \"parcoords\": [{\"line\": {\"colorbar\": {\"outlinewidth\": 0, \"ticks\": \"\"}}, \"type\": \"parcoords\"}], \"pie\": [{\"automargin\": true, \"type\": \"pie\"}], \"scatter\": [{\"marker\": {\"colorbar\": {\"outlinewidth\": 0, \"ticks\": \"\"}}, \"type\": \"scatter\"}], \"scatter3d\": [{\"line\": {\"colorbar\": {\"outlinewidth\": 0, \"ticks\": \"\"}}, \"marker\": {\"colorbar\": {\"outlinewidth\": 0, \"ticks\": \"\"}}, \"type\": \"scatter3d\"}], \"scattercarpet\": [{\"marker\": {\"colorbar\": {\"outlinewidth\": 0, \"ticks\": \"\"}}, \"type\": \"scattercarpet\"}], \"scattergeo\": [{\"marker\": {\"colorbar\": {\"outlinewidth\": 0, \"ticks\": \"\"}}, \"type\": \"scattergeo\"}], \"scattergl\": [{\"marker\": {\"colorbar\": {\"outlinewidth\": 0, \"ticks\": \"\"}}, \"type\": \"scattergl\"}], \"scattermapbox\": [{\"marker\": {\"colorbar\": {\"outlinewidth\": 0, \"ticks\": \"\"}}, \"type\": \"scattermapbox\"}], \"scatterpolar\": [{\"marker\": {\"colorbar\": {\"outlinewidth\": 0, \"ticks\": \"\"}}, \"type\": \"scatterpolar\"}], \"scatterpolargl\": [{\"marker\": {\"colorbar\": {\"outlinewidth\": 0, \"ticks\": \"\"}}, \"type\": \"scatterpolargl\"}], \"scatterternary\": [{\"marker\": {\"colorbar\": {\"outlinewidth\": 0, \"ticks\": \"\"}}, \"type\": \"scatterternary\"}], \"surface\": [{\"colorbar\": {\"outlinewidth\": 0, \"ticks\": \"\"}, \"colorscale\": [[0.0, \"#0d0887\"], [0.1111111111111111, \"#46039f\"], [0.2222222222222222, \"#7201a8\"], [0.3333333333333333, \"#9c179e\"], [0.4444444444444444, \"#bd3786\"], [0.5555555555555556, \"#d8576b\"], [0.6666666666666666, \"#ed7953\"], [0.7777777777777778, \"#fb9f3a\"], [0.8888888888888888, \"#fdca26\"], [1.0, \"#f0f921\"]], \"type\": \"surface\"}], \"table\": [{\"cells\": {\"fill\": {\"color\": \"#EBF0F8\"}, \"line\": {\"color\": \"white\"}}, \"header\": {\"fill\": {\"color\": \"#C8D4E3\"}, \"line\": {\"color\": \"white\"}}, \"type\": \"table\"}]}, \"layout\": {\"annotationdefaults\": {\"arrowcolor\": \"#2a3f5f\", \"arrowhead\": 0, \"arrowwidth\": 1}, \"autotypenumbers\": \"strict\", \"coloraxis\": {\"colorbar\": {\"outlinewidth\": 0, \"ticks\": \"\"}}, \"colorscale\": {\"diverging\": [[0, \"#8e0152\"], [0.1, \"#c51b7d\"], [0.2, \"#de77ae\"], [0.3, \"#f1b6da\"], [0.4, \"#fde0ef\"], [0.5, \"#f7f7f7\"], [0.6, \"#e6f5d0\"], [0.7, \"#b8e186\"], [0.8, \"#7fbc41\"], [0.9, \"#4d9221\"], [1, \"#276419\"]], \"sequential\": [[0.0, \"#0d0887\"], [0.1111111111111111, \"#46039f\"], [0.2222222222222222, \"#7201a8\"], [0.3333333333333333, \"#9c179e\"], [0.4444444444444444, \"#bd3786\"], [0.5555555555555556, \"#d8576b\"], [0.6666666666666666, \"#ed7953\"], [0.7777777777777778, \"#fb9f3a\"], [0.8888888888888888, \"#fdca26\"], [1.0, \"#f0f921\"]], \"sequentialminus\": [[0.0, \"#0d0887\"], [0.1111111111111111, \"#46039f\"], [0.2222222222222222, \"#7201a8\"], [0.3333333333333333, \"#9c179e\"], [0.4444444444444444, \"#bd3786\"], [0.5555555555555556, \"#d8576b\"], [0.6666666666666666, \"#ed7953\"], [0.7777777777777778, \"#fb9f3a\"], [0.8888888888888888, \"#fdca26\"], [1.0, \"#f0f921\"]]}, \"colorway\": [\"#636efa\", \"#EF553B\", \"#00cc96\", \"#ab63fa\", \"#FFA15A\", \"#19d3f3\", \"#FF6692\", \"#B6E880\", \"#FF97FF\", \"#FECB52\"], \"font\": {\"color\": \"#2a3f5f\"}, \"geo\": {\"bgcolor\": \"white\", \"lakecolor\": \"white\", \"landcolor\": \"#E5ECF6\", \"showlakes\": true, \"showland\": true, \"subunitcolor\": \"white\"}, \"hoverlabel\": {\"align\": \"left\"}, \"hovermode\": \"closest\", \"mapbox\": {\"style\": \"light\"}, \"paper_bgcolor\": \"white\", \"plot_bgcolor\": \"#E5ECF6\", \"polar\": {\"angularaxis\": {\"gridcolor\": \"white\", \"linecolor\": \"white\", \"ticks\": \"\"}, \"bgcolor\": \"#E5ECF6\", \"radialaxis\": {\"gridcolor\": \"white\", \"linecolor\": \"white\", \"ticks\": \"\"}}, \"scene\": {\"xaxis\": {\"backgroundcolor\": \"#E5ECF6\", \"gridcolor\": \"white\", \"gridwidth\": 2, \"linecolor\": \"white\", \"showbackground\": true, \"ticks\": \"\", \"zerolinecolor\": \"white\"}, \"yaxis\": {\"backgroundcolor\": \"#E5ECF6\", \"gridcolor\": \"white\", \"gridwidth\": 2, \"linecolor\": \"white\", \"showbackground\": true, \"ticks\": \"\", \"zerolinecolor\": \"white\"}, \"zaxis\": {\"backgroundcolor\": \"#E5ECF6\", \"gridcolor\": \"white\", \"gridwidth\": 2, \"linecolor\": \"white\", \"showbackground\": true, \"ticks\": \"\", \"zerolinecolor\": \"white\"}}, \"shapedefaults\": {\"line\": {\"color\": \"#2a3f5f\"}}, \"ternary\": {\"aaxis\": {\"gridcolor\": \"white\", \"linecolor\": \"white\", \"ticks\": \"\"}, \"baxis\": {\"gridcolor\": \"white\", \"linecolor\": \"white\", \"ticks\": \"\"}, \"bgcolor\": \"#E5ECF6\", \"caxis\": {\"gridcolor\": \"white\", \"linecolor\": \"white\", \"ticks\": \"\"}}, \"title\": {\"x\": 0.05}, \"xaxis\": {\"automargin\": true, \"gridcolor\": \"white\", \"linecolor\": \"white\", \"ticks\": \"\", \"title\": {\"standoff\": 15}, \"zerolinecolor\": \"white\", \"zerolinewidth\": 2}, \"yaxis\": {\"automargin\": true, \"gridcolor\": \"white\", \"linecolor\": \"white\", \"ticks\": \"\", \"title\": {\"standoff\": 15}, \"zerolinecolor\": \"white\", \"zerolinewidth\": 2}}}, \"title\": {\"font\": {\"color\": \"#4D5663\"}, \"text\": \"Comparando os tweets se s\\u00e3o sobre desastres (1) ou n\\u00e3o (0)\"}, \"xaxis\": {\"gridcolor\": \"#E1E5ED\", \"showgrid\": true, \"tickfont\": {\"color\": \"#4D5663\"}, \"title\": {\"font\": {\"color\": \"#4D5663\"}, \"text\": \"\"}, \"zerolinecolor\": \"#E1E5ED\"}, \"yaxis\": {\"gridcolor\": \"#E1E5ED\", \"showgrid\": true, \"tickfont\": {\"color\": \"#4D5663\"}, \"title\": {\"font\": {\"color\": \"#4D5663\"}, \"text\": \"\"}, \"zerolinecolor\": \"#E1E5ED\"}},                        {\"showLink\": true, \"linkText\": \"Export to plot.ly\", \"plotlyServerURL\": \"https://plot.ly\", \"responsive\": true}                    ).then(function(){\n",
       "                            \n",
       "var gd = document.getElementById('e496c59d-0ce2-4866-9cc9-3de3772fedbf');\n",
       "var x = new MutationObserver(function (mutations, observer) {{\n",
       "        var display = window.getComputedStyle(gd).display;\n",
       "        if (!display || display === 'none') {{\n",
       "            console.log([gd, 'removed!']);\n",
       "            Plotly.purge(gd);\n",
       "            observer.disconnect();\n",
       "        }}\n",
       "}});\n",
       "\n",
       "// Listen for the removal of the full notebook cells\n",
       "var notebookContainer = gd.closest('#notebook-container');\n",
       "if (notebookContainer) {{\n",
       "    x.observe(notebookContainer, {childList: true});\n",
       "}}\n",
       "\n",
       "// Listen for the clearing of the current output cell\n",
       "var outputEl = gd.closest('.output');\n",
       "if (outputEl) {{\n",
       "    x.observe(outputEl, {childList: true});\n",
       "}}\n",
       "\n",
       "                        })                };                });            </script>        </div>"
      ]
     },
     "metadata": {},
     "output_type": "display_data"
    }
   ],
   "source": [
    "train[\"target\"].value_counts().iplot(kind='bar',text=['Fake', 'Real'], title='Comparando os tweets se são sobre desastres (1) ou não (0)',color=['blue'])"
   ]
  },
  {
   "cell_type": "code",
   "execution_count": 9,
   "id": "surgical-laser",
   "metadata": {
    "execution": {
     "iopub.execute_input": "2021-05-27T15:46:51.765673Z",
     "iopub.status.busy": "2021-05-27T15:46:51.764825Z",
     "iopub.status.idle": "2021-05-27T15:46:51.992821Z",
     "shell.execute_reply": "2021-05-27T15:46:51.993350Z",
     "shell.execute_reply.started": "2021-05-27T15:45:11.191958Z"
    },
    "papermill": {
     "duration": 0.307764,
     "end_time": "2021-05-27T15:46:51.993539",
     "exception": false,
     "start_time": "2021-05-27T15:46:51.685775",
     "status": "completed"
    },
    "tags": []
   },
   "outputs": [
    {
     "data": {
      "image/png": "[encoded data removed]",
      "text/plain": [
       "<Figure size 720x504 with 1 Axes>"
      ]
     },
     "metadata": {
      "needs_background": "light"
     },
     "output_type": "display_data"
    }
   ],
   "source": [
    "plt.figure(figsize= (10,7))\n",
    "sns.countplot(y= train['keyword'], order=train['keyword'].value_counts().iloc[:10].index)\n",
    "plt.title('As 10 palavra-chaves mais usadas no dataset de treino')\n",
    "plt.show()"
   ]
  },
  {
   "cell_type": "code",
   "execution_count": 10,
   "id": "relative-contrary",
   "metadata": {
    "execution": {
     "iopub.execute_input": "2021-05-27T15:46:52.133332Z",
     "iopub.status.busy": "2021-05-27T15:46:52.132633Z",
     "iopub.status.idle": "2021-05-27T15:46:52.334616Z",
     "shell.execute_reply": "2021-05-27T15:46:52.334070Z",
     "shell.execute_reply.started": "2021-05-27T15:45:11.672344Z"
    },
    "papermill": {
     "duration": 0.275564,
     "end_time": "2021-05-27T15:46:52.334767",
     "exception": false,
     "start_time": "2021-05-27T15:46:52.059203",
     "status": "completed"
    },
    "tags": []
   },
   "outputs": [
    {
     "data": {
      "image/png": "[encoded data removed]",
      "text/plain": [
       "<Figure size 720x504 with 1 Axes>"
      ]
     },
     "metadata": {
      "needs_background": "light"
     },
     "output_type": "display_data"
    }
   ],
   "source": [
    "plt.figure(figsize= (10,7))\n",
    "sns.countplot(y= train['location'], order=train['location'].value_counts().iloc[:10].index)\n",
    "plt.title('Os 10 lugares mais frequentes onde foram publicados os tweets')\n",
    "plt.show()"
   ]
  },
  {
   "cell_type": "markdown",
   "id": "banned-occurrence",
   "metadata": {
    "papermill": {
     "duration": 0.063606,
     "end_time": "2021-05-27T15:46:52.462582",
     "exception": false,
     "start_time": "2021-05-27T15:46:52.398976",
     "status": "completed"
    },
    "tags": []
   },
   "source": [
    "# Pré-processamento dos dados"
   ]
  },
  {
   "cell_type": "markdown",
   "id": "taken-reservoir",
   "metadata": {
    "papermill": {
     "duration": 0.063506,
     "end_time": "2021-05-27T15:46:52.589995",
     "exception": false,
     "start_time": "2021-05-27T15:46:52.526489",
     "status": "completed"
    },
    "tags": []
   },
   "source": [
    "## Excluindo as colunas que não vamos trabalhar"
   ]
  },
  {
   "cell_type": "code",
   "execution_count": 11,
   "id": "technological-knight",
   "metadata": {
    "execution": {
     "iopub.execute_input": "2021-05-27T15:46:52.726256Z",
     "iopub.status.busy": "2021-05-27T15:46:52.723382Z",
     "iopub.status.idle": "2021-05-27T15:46:52.730106Z",
     "shell.execute_reply": "2021-05-27T15:46:52.729375Z",
     "shell.execute_reply.started": "2021-05-27T15:45:12.068856Z"
    },
    "papermill": {
     "duration": 0.076217,
     "end_time": "2021-05-27T15:46:52.730258",
     "exception": false,
     "start_time": "2021-05-27T15:46:52.654041",
     "status": "completed"
    },
    "tags": []
   },
   "outputs": [],
   "source": [
    "train = train.drop(['keyword', 'location', 'id'], axis=1)\n",
    "\n",
    "#test\n",
    "test = test.drop(['keyword', 'location', 'id'], axis=1)"
   ]
  },
  {
   "cell_type": "markdown",
   "id": "detected-radar",
   "metadata": {
    "papermill": {
     "duration": 0.062974,
     "end_time": "2021-05-27T15:46:52.857111",
     "exception": false,
     "start_time": "2021-05-27T15:46:52.794137",
     "status": "completed"
    },
    "tags": []
   },
   "source": [
    "## Removendo as Stopwords"
   ]
  },
  {
   "cell_type": "code",
   "execution_count": 12,
   "id": "dental-senegal",
   "metadata": {
    "execution": {
     "iopub.execute_input": "2021-05-27T15:46:52.991082Z",
     "iopub.status.busy": "2021-05-27T15:46:52.990362Z",
     "iopub.status.idle": "2021-05-27T15:46:52.994220Z",
     "shell.execute_reply": "2021-05-27T15:46:52.993535Z",
     "shell.execute_reply.started": "2021-05-27T15:45:12.086686Z"
    },
    "papermill": {
     "duration": 0.073972,
     "end_time": "2021-05-27T15:46:52.994364",
     "exception": false,
     "start_time": "2021-05-27T15:46:52.920392",
     "status": "completed"
    },
    "tags": []
   },
   "outputs": [],
   "source": [
    "def RemoveStopWords(text):\n",
    "    stopwords = set(nltk.corpus.stopwords.words('english'))\n",
    "    words = [i for i in text.split() if not i in stopwords]\n",
    "    return (\" \".join(words))"
   ]
  },
  {
   "cell_type": "code",
   "execution_count": 13,
   "id": "normal-atlantic",
   "metadata": {
    "execution": {
     "iopub.execute_input": "2021-05-27T15:46:53.131042Z",
     "iopub.status.busy": "2021-05-27T15:46:53.130379Z",
     "iopub.status.idle": "2021-05-27T15:46:54.651155Z",
     "shell.execute_reply": "2021-05-27T15:46:54.650444Z",
     "shell.execute_reply.started": "2021-05-27T15:45:12.100922Z"
    },
    "papermill": {
     "duration": 1.592158,
     "end_time": "2021-05-27T15:46:54.651318",
     "exception": false,
     "start_time": "2021-05-27T15:46:53.059160",
     "status": "completed"
    },
    "tags": []
   },
   "outputs": [
    {
     "data": {
      "text/plain": [
       "0    Our Deeds Reason #earthquake May ALLAH Forgive us\n",
       "1               Forest fire near La Ronge Sask. Canada\n",
       "2    All residents asked 'shelter place' notified o...\n",
       "3    13,000 people receive #wildfires evacuation or...\n",
       "4    Just got sent photo Ruby #Alaska smoke #wildfi...\n",
       "5    #RockyFire Update => California Hwy. 20 closed...\n",
       "6    #flood #disaster Heavy rain causes flash flood...\n",
       "7                     I'm top hill I see fire woods...\n",
       "8    There's emergency evacuation happening buildin...\n",
       "9                    I'm afraid tornado coming area...\n",
       "Name: text, dtype: object"
      ]
     },
     "execution_count": 13,
     "metadata": {},
     "output_type": "execute_result"
    }
   ],
   "source": [
    "train['text'] = [RemoveStopWords(i) for i in train['text']]\n",
    "\n",
    "# test\n",
    "test['text'] = [RemoveStopWords(i) for i in test['text']]\n",
    "\n",
    "train['text'][:10]"
   ]
  },
  {
   "cell_type": "markdown",
   "id": "rising-leave",
   "metadata": {
    "papermill": {
     "duration": 0.06369,
     "end_time": "2021-05-27T15:46:54.778357",
     "exception": false,
     "start_time": "2021-05-27T15:46:54.714667",
     "status": "completed"
    },
    "tags": []
   },
   "source": [
    "## Removendo os caracteres especiais"
   ]
  },
  {
   "cell_type": "code",
   "execution_count": 14,
   "id": "express-watson",
   "metadata": {
    "execution": {
     "iopub.execute_input": "2021-05-27T15:46:54.913689Z",
     "iopub.status.busy": "2021-05-27T15:46:54.912524Z",
     "iopub.status.idle": "2021-05-27T15:46:54.915863Z",
     "shell.execute_reply": "2021-05-27T15:46:54.915257Z",
     "shell.execute_reply.started": "2021-05-27T15:45:14.046251Z"
    },
    "papermill": {
     "duration": 0.073893,
     "end_time": "2021-05-27T15:46:54.916014",
     "exception": false,
     "start_time": "2021-05-27T15:46:54.842121",
     "status": "completed"
    },
    "tags": []
   },
   "outputs": [],
   "source": [
    "def Remove_carac(text):\n",
    "    text = text.str.lower() \n",
    "    text = text.str.replace(r\"\\#\",\"\") \n",
    "    text = text.str.replace(r\"http\\S+\",\"\")  \n",
    "    text = text.str.replace(r\"@\",\"\")\n",
    "    text = text.str.replace(r\"[^a-zA-Z#]\", \" \")\n",
    "    text = text.str.replace(\"\\s{2,}\", \"\")\n",
    "    return text"
   ]
  },
  {
   "cell_type": "code",
   "execution_count": 15,
   "id": "comparable-vision",
   "metadata": {
    "execution": {
     "iopub.execute_input": "2021-05-27T15:46:55.064291Z",
     "iopub.status.busy": "2021-05-27T15:46:55.059066Z",
     "iopub.status.idle": "2021-05-27T15:46:55.240092Z",
     "shell.execute_reply": "2021-05-27T15:46:55.240633Z",
     "shell.execute_reply.started": "2021-05-27T15:45:14.057269Z"
    },
    "papermill": {
     "duration": 0.259958,
     "end_time": "2021-05-27T15:46:55.240813",
     "exception": false,
     "start_time": "2021-05-27T15:46:54.980855",
     "status": "completed"
    },
    "tags": []
   },
   "outputs": [
    {
     "name": "stderr",
     "output_type": "stream",
     "text": [
      "/opt/conda/lib/python3.7/site-packages/ipykernel_launcher.py:3: FutureWarning:\n",
      "\n",
      "The default value of regex will change from True to False in a future version.\n",
      "\n",
      "/opt/conda/lib/python3.7/site-packages/ipykernel_launcher.py:4: FutureWarning:\n",
      "\n",
      "The default value of regex will change from True to False in a future version.\n",
      "\n",
      "/opt/conda/lib/python3.7/site-packages/ipykernel_launcher.py:6: FutureWarning:\n",
      "\n",
      "The default value of regex will change from True to False in a future version.\n",
      "\n",
      "/opt/conda/lib/python3.7/site-packages/ipykernel_launcher.py:7: FutureWarning:\n",
      "\n",
      "The default value of regex will change from True to False in a future version.\n",
      "\n"
     ]
    },
    {
     "data": {
      "text/plain": [
       "0     our deeds reason earthquake may allah forgive us\n",
       "1                 forest fire near la ronge saskcanada\n",
       "2    all residents askedshelter placenotified offic...\n",
       "3    people receive wildfires evacuation orders cal...\n",
       "4    just got sent photo ruby alaska smoke wildfire...\n",
       "5    rockyfire updatecalifornia hwyclosed direction...\n",
       "6    flood disaster heavy rain causes flash floodin...\n",
       "7                        i m top hill i see fire woods\n",
       "8    there s emergency evacuation happening buildin...\n",
       "9                       i m afraid tornado coming area\n",
       "Name: clean_text, dtype: object"
      ]
     },
     "execution_count": 15,
     "metadata": {},
     "output_type": "execute_result"
    }
   ],
   "source": [
    "train['clean_text'] = Remove_carac(train['text'])\n",
    "\n",
    "#test\n",
    "test['clean_text'] = Remove_carac(test['text'])\n",
    "\n",
    "train['clean_text'][:10]"
   ]
  },
  {
   "cell_type": "markdown",
   "id": "nasty-simon",
   "metadata": {
    "papermill": {
     "duration": 0.06455,
     "end_time": "2021-05-27T15:46:55.372924",
     "exception": false,
     "start_time": "2021-05-27T15:46:55.308374",
     "status": "completed"
    },
    "tags": []
   },
   "source": [
    "## Lemmatization"
   ]
  },
  {
   "cell_type": "code",
   "execution_count": 16,
   "id": "secure-alliance",
   "metadata": {
    "execution": {
     "iopub.execute_input": "2021-05-27T15:46:55.510541Z",
     "iopub.status.busy": "2021-05-27T15:46:55.509741Z",
     "iopub.status.idle": "2021-05-27T15:46:55.512122Z",
     "shell.execute_reply": "2021-05-27T15:46:55.511358Z",
     "shell.execute_reply.started": "2021-05-27T15:45:14.239456Z"
    },
    "papermill": {
     "duration": 0.073928,
     "end_time": "2021-05-27T15:46:55.512288",
     "exception": false,
     "start_time": "2021-05-27T15:46:55.438360",
     "status": "completed"
    },
    "tags": []
   },
   "outputs": [],
   "source": [
    "lem = WordNetLemmatizer()\n",
    "\n",
    "def Lemmatization(text):\n",
    "    words = []\n",
    "    for w in text.split():\n",
    "        words.append(lem.lemmatize(w))\n",
    "    return (\" \".join(words))"
   ]
  },
  {
   "cell_type": "code",
   "execution_count": 17,
   "id": "portable-chapter",
   "metadata": {
    "execution": {
     "iopub.execute_input": "2021-05-27T15:46:55.649301Z",
     "iopub.status.busy": "2021-05-27T15:46:55.648643Z",
     "iopub.status.idle": "2021-05-27T15:46:58.371254Z",
     "shell.execute_reply": "2021-05-27T15:46:58.371758Z",
     "shell.execute_reply.started": "2021-05-27T15:45:14.250716Z"
    },
    "papermill": {
     "duration": 2.793452,
     "end_time": "2021-05-27T15:46:58.371942",
     "exception": false,
     "start_time": "2021-05-27T15:46:55.578490",
     "status": "completed"
    },
    "tags": []
   },
   "outputs": [
    {
     "data": {
      "text/plain": [
       "0       our deed reason earthquake may allah forgive u\n",
       "1                 forest fire near la ronge saskcanada\n",
       "2    all resident askedshelter placenotified office...\n",
       "3    people receive wildfire evacuation order calif...\n",
       "4    just got sent photo ruby alaska smoke wildfire...\n",
       "5    rockyfire updatecalifornia hwyclosed direction...\n",
       "6    flood disaster heavy rain cause flash flooding...\n",
       "7                         i m top hill i see fire wood\n",
       "8    there s emergency evacuation happening buildin...\n",
       "9                       i m afraid tornado coming area\n",
       "Name: clean_text, dtype: object"
      ]
     },
     "execution_count": 17,
     "metadata": {},
     "output_type": "execute_result"
    }
   ],
   "source": [
    "train['clean_text'] = [Lemmatization(f) for f in train['clean_text']]\n",
    "\n",
    "#test\n",
    "test['clean_text'] = [Lemmatization(f) for f in test['clean_text']]\n",
    "\n",
    "train['clean_text'][:10]"
   ]
  },
  {
   "cell_type": "markdown",
   "id": "soviet-community",
   "metadata": {
    "papermill": {
     "duration": 0.065198,
     "end_time": "2021-05-27T15:46:58.502523",
     "exception": false,
     "start_time": "2021-05-27T15:46:58.437325",
     "status": "completed"
    },
    "tags": []
   },
   "source": [
    "## Stemming"
   ]
  },
  {
   "cell_type": "code",
   "execution_count": 18,
   "id": "diverse-language",
   "metadata": {
    "execution": {
     "iopub.execute_input": "2021-05-27T15:46:58.638699Z",
     "iopub.status.busy": "2021-05-27T15:46:58.637693Z",
     "iopub.status.idle": "2021-05-27T15:46:58.641262Z",
     "shell.execute_reply": "2021-05-27T15:46:58.640714Z",
     "shell.execute_reply.started": "2021-05-27T15:45:17.048335Z"
    },
    "papermill": {
     "duration": 0.074218,
     "end_time": "2021-05-27T15:46:58.641404",
     "exception": false,
     "start_time": "2021-05-27T15:46:58.567186",
     "status": "completed"
    },
    "tags": []
   },
   "outputs": [],
   "source": [
    "def Stemming(text):\n",
    "    stemmer = SnowballStemmer(language='english')\n",
    "    words = []\n",
    "    for w in text.split():\n",
    "        words.append(stemmer.stem(w))\n",
    "    return (\" \".join(words))"
   ]
  },
  {
   "cell_type": "code",
   "execution_count": 19,
   "id": "armed-multiple",
   "metadata": {
    "execution": {
     "iopub.execute_input": "2021-05-27T15:46:58.811185Z",
     "iopub.status.busy": "2021-05-27T15:46:58.795474Z",
     "iopub.status.idle": "2021-05-27T15:47:00.428797Z",
     "shell.execute_reply": "2021-05-27T15:47:00.428089Z",
     "shell.execute_reply.started": "2021-05-27T15:45:17.058476Z"
    },
    "papermill": {
     "duration": 1.722553,
     "end_time": "2021-05-27T15:47:00.428949",
     "exception": false,
     "start_time": "2021-05-27T15:46:58.706396",
     "status": "completed"
    },
    "tags": []
   },
   "outputs": [
    {
     "data": {
      "text/plain": [
       "0         our deed reason earthquak may allah forgiv u\n",
       "1                  forest fire near la rong saskcanada\n",
       "2    all resid askedshelt placenotifi officersno ev...\n",
       "3          peopl receiv wildfir evacu order california\n",
       "4    just got sent photo rubi alaska smoke wildfir ...\n",
       "5    rockyfir updatecalifornia hwyclos direct due l...\n",
       "6    flood disast heavi rain caus flash flood stree...\n",
       "7                         i m top hill i see fire wood\n",
       "8       there s emerg evacu happen build across street\n",
       "9                         i m afraid tornado come area\n",
       "Name: clean_text, dtype: object"
      ]
     },
     "execution_count": 19,
     "metadata": {},
     "output_type": "execute_result"
    }
   ],
   "source": [
    "train['clean_text'] = [Stemming(t) for t in train['clean_text']]\n",
    "\n",
    "#test\n",
    "test['clean_text'] = [Stemming(t) for t in test['clean_text']]\n",
    "\n",
    "train['clean_text'][:10]"
   ]
  },
  {
   "cell_type": "code",
   "execution_count": 20,
   "id": "robust-discharge",
   "metadata": {
    "execution": {
     "iopub.execute_input": "2021-05-27T15:47:00.579029Z",
     "iopub.status.busy": "2021-05-27T15:47:00.578120Z",
     "iopub.status.idle": "2021-05-27T15:47:00.582385Z",
     "shell.execute_reply": "2021-05-27T15:47:00.581822Z",
     "shell.execute_reply.started": "2021-05-27T15:45:18.783400Z"
    },
    "papermill": {
     "duration": 0.087679,
     "end_time": "2021-05-27T15:47:00.582527",
     "exception": false,
     "start_time": "2021-05-27T15:47:00.494848",
     "status": "completed"
    },
    "tags": []
   },
   "outputs": [
    {
     "data": {
      "text/html": [
       "<div>\n",
       "<style scoped>\n",
       "    .dataframe tbody tr th:only-of-type {\n",
       "        vertical-align: middle;\n",
       "    }\n",
       "\n",
       "    .dataframe tbody tr th {\n",
       "        vertical-align: top;\n",
       "    }\n",
       "\n",
       "    .dataframe thead th {\n",
       "        text-align: right;\n",
       "    }\n",
       "</style>\n",
       "<table border=\"1\" class=\"dataframe\">\n",
       "  <thead>\n",
       "    <tr style=\"text-align: right;\">\n",
       "      <th></th>\n",
       "      <th>clean_text</th>\n",
       "      <th>target</th>\n",
       "    </tr>\n",
       "  </thead>\n",
       "  <tbody>\n",
       "    <tr>\n",
       "      <th>0</th>\n",
       "      <td>our deed reason earthquak may allah forgiv u</td>\n",
       "      <td>1</td>\n",
       "    </tr>\n",
       "    <tr>\n",
       "      <th>1</th>\n",
       "      <td>forest fire near la rong saskcanada</td>\n",
       "      <td>1</td>\n",
       "    </tr>\n",
       "    <tr>\n",
       "      <th>2</th>\n",
       "      <td>all resid askedshelt placenotifi officersno ev...</td>\n",
       "      <td>1</td>\n",
       "    </tr>\n",
       "    <tr>\n",
       "      <th>3</th>\n",
       "      <td>peopl receiv wildfir evacu order california</td>\n",
       "      <td>1</td>\n",
       "    </tr>\n",
       "    <tr>\n",
       "      <th>4</th>\n",
       "      <td>just got sent photo rubi alaska smoke wildfir ...</td>\n",
       "      <td>1</td>\n",
       "    </tr>\n",
       "  </tbody>\n",
       "</table>\n",
       "</div>"
      ],
      "text/plain": [
       "                                          clean_text  target\n",
       "0       our deed reason earthquak may allah forgiv u       1\n",
       "1                forest fire near la rong saskcanada       1\n",
       "2  all resid askedshelt placenotifi officersno ev...       1\n",
       "3        peopl receiv wildfir evacu order california       1\n",
       "4  just got sent photo rubi alaska smoke wildfir ...       1"
      ]
     },
     "execution_count": 20,
     "metadata": {},
     "output_type": "execute_result"
    }
   ],
   "source": [
    "# excluindo a coluna text e reorganizando as colunas\n",
    "train = train.drop(['text'], axis=1)\n",
    "train = train.reindex(columns=['clean_text', 'target'])\n",
    "\n",
    "#test\n",
    "test = test.drop(['text'], axis=1)\n",
    "test = test.reindex(columns=['clean_text', 'target'])\n",
    "\n",
    "train.head()"
   ]
  },
  {
   "cell_type": "markdown",
   "id": "extra-purple",
   "metadata": {
    "papermill": {
     "duration": 0.065649,
     "end_time": "2021-05-27T15:47:00.715046",
     "exception": false,
     "start_time": "2021-05-27T15:47:00.649397",
     "status": "completed"
    },
    "tags": []
   },
   "source": [
    "## Dando uma olhada nas palavras mais frequentes com WordCloud"
   ]
  },
  {
   "cell_type": "code",
   "execution_count": 21,
   "id": "demanding-productivity",
   "metadata": {
    "execution": {
     "iopub.execute_input": "2021-05-27T15:47:00.854341Z",
     "iopub.status.busy": "2021-05-27T15:47:00.853683Z",
     "iopub.status.idle": "2021-05-27T15:47:00.857108Z",
     "shell.execute_reply": "2021-05-27T15:47:00.856510Z",
     "shell.execute_reply.started": "2021-05-27T15:45:18.805749Z"
    },
    "papermill": {
     "duration": 0.076496,
     "end_time": "2021-05-27T15:47:00.857266",
     "exception": false,
     "start_time": "2021-05-27T15:47:00.780770",
     "status": "completed"
    },
    "tags": []
   },
   "outputs": [],
   "source": [
    "# unindo treino e teste\n",
    "df = pd.concat([train,test], ignore_index=True)"
   ]
  },
  {
   "cell_type": "code",
   "execution_count": 22,
   "id": "necessary-anderson",
   "metadata": {
    "execution": {
     "iopub.execute_input": "2021-05-27T15:47:01.010100Z",
     "iopub.status.busy": "2021-05-27T15:47:00.999491Z",
     "iopub.status.idle": "2021-05-27T15:47:01.037034Z",
     "shell.execute_reply": "2021-05-27T15:47:01.036466Z",
     "shell.execute_reply.started": "2021-05-27T15:45:18.820682Z"
    },
    "papermill": {
     "duration": 0.114378,
     "end_time": "2021-05-27T15:47:01.037202",
     "exception": false,
     "start_time": "2021-05-27T15:47:00.922824",
     "status": "completed"
    },
    "tags": []
   },
   "outputs": [
    {
     "data": {
      "text/html": [
       "<div>\n",
       "<style scoped>\n",
       "    .dataframe tbody tr th:only-of-type {\n",
       "        vertical-align: middle;\n",
       "    }\n",
       "\n",
       "    .dataframe tbody tr th {\n",
       "        vertical-align: top;\n",
       "    }\n",
       "\n",
       "    .dataframe thead th {\n",
       "        text-align: right;\n",
       "    }\n",
       "</style>\n",
       "<table border=\"1\" class=\"dataframe\">\n",
       "  <thead>\n",
       "    <tr style=\"text-align: right;\">\n",
       "      <th></th>\n",
       "      <th>clean_text</th>\n",
       "      <th>target</th>\n",
       "    </tr>\n",
       "  </thead>\n",
       "  <tbody>\n",
       "    <tr>\n",
       "      <th>0</th>\n",
       "      <td>deed reason earthquak allah forgiv</td>\n",
       "      <td>1.0</td>\n",
       "    </tr>\n",
       "    <tr>\n",
       "      <th>1</th>\n",
       "      <td>forest fire near rong saskcanada</td>\n",
       "      <td>1.0</td>\n",
       "    </tr>\n",
       "    <tr>\n",
       "      <th>2</th>\n",
       "      <td>resid askedshelt placenotifi officersno evacu ...</td>\n",
       "      <td>1.0</td>\n",
       "    </tr>\n",
       "    <tr>\n",
       "      <th>3</th>\n",
       "      <td>peopl receiv wildfir evacu order california</td>\n",
       "      <td>1.0</td>\n",
       "    </tr>\n",
       "    <tr>\n",
       "      <th>4</th>\n",
       "      <td>just sent photo rubi alaska smoke wildfir pour...</td>\n",
       "      <td>1.0</td>\n",
       "    </tr>\n",
       "  </tbody>\n",
       "</table>\n",
       "</div>"
      ],
      "text/plain": [
       "                                          clean_text  target\n",
       "0                 deed reason earthquak allah forgiv     1.0\n",
       "1                   forest fire near rong saskcanada     1.0\n",
       "2  resid askedshelt placenotifi officersno evacu ...     1.0\n",
       "3        peopl receiv wildfir evacu order california     1.0\n",
       "4  just sent photo rubi alaska smoke wildfir pour...     1.0"
      ]
     },
     "execution_count": 22,
     "metadata": {},
     "output_type": "execute_result"
    }
   ],
   "source": [
    "# excluindo palavras com menos de 3 letras para melhor entendimento do gráfico\n",
    "df['clean_text'] = df['clean_text'].apply(lambda x: ' '.join([w for w in x.split() if len(w)>3]))\n",
    "df.head()"
   ]
  },
  {
   "cell_type": "code",
   "execution_count": 23,
   "id": "junior-ladder",
   "metadata": {
    "execution": {
     "iopub.execute_input": "2021-05-27T15:47:01.523078Z",
     "iopub.status.busy": "2021-05-27T15:47:01.245982Z",
     "iopub.status.idle": "2021-05-27T15:47:03.446398Z",
     "shell.execute_reply": "2021-05-27T15:47:03.446952Z",
     "shell.execute_reply.started": "2021-05-27T15:45:18.871600Z"
    },
    "papermill": {
     "duration": 2.341238,
     "end_time": "2021-05-27T15:47:03.447148",
     "exception": false,
     "start_time": "2021-05-27T15:47:01.105910",
     "status": "completed"
    },
    "tags": []
   },
   "outputs": [
    {
     "data": {
      "image/png": "[encoded data removed]",
      "text/plain": [
       "<Figure size 720x504 with 1 Axes>"
      ]
     },
     "metadata": {
      "needs_background": "light"
     },
     "output_type": "display_data"
    }
   ],
   "source": [
    "# usando o WordCloud para visualizar as palavras que aparecem com frequencia\n",
    "words = ' '.join([text for text in df['clean_text']])\n",
    "\n",
    "wordcloud = WordCloud(width=800, height = 500, max_font_size=110).generate(words)\n",
    "\n",
    "# plotando\n",
    "plt.figure(figsize=(10,7))\n",
    "plt.imshow(wordcloud, interpolation='bilinear')\n",
    "plt.axis('off')\n",
    "plt.show()"
   ]
  },
  {
   "cell_type": "code",
   "execution_count": 24,
   "id": "focal-cliff",
   "metadata": {
    "execution": {
     "iopub.execute_input": "2021-05-27T15:47:03.598782Z",
     "iopub.status.busy": "2021-05-27T15:47:03.598005Z",
     "iopub.status.idle": "2021-05-27T15:47:03.602779Z",
     "shell.execute_reply": "2021-05-27T15:47:03.603302Z",
     "shell.execute_reply.started": "2021-05-27T15:45:20.720912Z"
    },
    "papermill": {
     "duration": 0.081885,
     "end_time": "2021-05-27T15:47:03.603479",
     "exception": false,
     "start_time": "2021-05-27T15:47:03.521594",
     "status": "completed"
    },
    "tags": []
   },
   "outputs": [],
   "source": [
    "from collections import Counter\n",
    "\n",
    "# quantas palavras unicas tem no texto\n",
    "def counter_word (text):\n",
    "    count = Counter()\n",
    "    for i in text.values:\n",
    "        for word in i.split():\n",
    "            count[word] += 1\n",
    "    return count"
   ]
  },
  {
   "cell_type": "code",
   "execution_count": 25,
   "id": "pleased-rachel",
   "metadata": {
    "execution": {
     "iopub.execute_input": "2021-05-27T15:47:03.753307Z",
     "iopub.status.busy": "2021-05-27T15:47:03.752537Z",
     "iopub.status.idle": "2021-05-27T15:47:03.787137Z",
     "shell.execute_reply": "2021-05-27T15:47:03.787723Z",
     "shell.execute_reply.started": "2021-05-27T15:45:20.731132Z"
    },
    "papermill": {
     "duration": 0.111468,
     "end_time": "2021-05-27T15:47:03.787916",
     "exception": false,
     "start_time": "2021-05-27T15:47:03.676448",
     "status": "completed"
    },
    "tags": []
   },
   "outputs": [],
   "source": [
    "text_values = train[\"clean_text\"]\n",
    "\n",
    "counter = counter_word(text_values)"
   ]
  },
  {
   "cell_type": "code",
   "execution_count": 26,
   "id": "increasing-pressing",
   "metadata": {
    "execution": {
     "iopub.execute_input": "2021-05-27T15:47:03.937648Z",
     "iopub.status.busy": "2021-05-27T15:47:03.936979Z",
     "iopub.status.idle": "2021-05-27T15:47:03.946086Z",
     "shell.execute_reply": "2021-05-27T15:47:03.946613Z",
     "shell.execute_reply.started": "2021-05-27T15:45:20.780332Z"
    },
    "papermill": {
     "duration": 0.085279,
     "end_time": "2021-05-27T15:47:03.946781",
     "exception": false,
     "start_time": "2021-05-27T15:47:03.861502",
     "status": "completed"
    },
    "tags": []
   },
   "outputs": [
    {
     "name": "stdout",
     "output_type": "stream",
     "text": [
      "The len of unique words is: 17864\n"
     ]
    },
    {
     "data": {
      "text/plain": [
       "[('our', 18),\n",
       " ('deed', 1),\n",
       " ('reason', 25),\n",
       " ('earthquak', 29),\n",
       " ('may', 80),\n",
       " ('allah', 8),\n",
       " ('forgiv', 1),\n",
       " ('u', 215),\n",
       " ('forest', 47),\n",
       " ('fire', 279)]"
      ]
     },
     "execution_count": 26,
     "metadata": {},
     "output_type": "execute_result"
    }
   ],
   "source": [
    "print(f\"The len of unique words is: {len(counter)}\")\n",
    "list(counter.items())[:10]"
   ]
  },
  {
   "cell_type": "code",
   "execution_count": 27,
   "id": "tropical-webmaster",
   "metadata": {
    "execution": {
     "iopub.execute_input": "2021-05-27T15:47:04.098816Z",
     "iopub.status.busy": "2021-05-27T15:47:04.098067Z",
     "iopub.status.idle": "2021-05-27T15:47:04.103078Z",
     "shell.execute_reply": "2021-05-27T15:47:04.103667Z",
     "shell.execute_reply.started": "2021-05-27T15:45:20.796530Z"
    },
    "papermill": {
     "duration": 0.082982,
     "end_time": "2021-05-27T15:47:04.103861",
     "exception": false,
     "start_time": "2021-05-27T15:47:04.020879",
     "status": "completed"
    },
    "tags": []
   },
   "outputs": [],
   "source": [
    "# o número máximo de palavras usadas\n",
    "\n",
    "vocab_size = len(counter)\n",
    "embedding_dim = 32\n",
    "max_length = 20\n",
    "trunc_type='post'\n",
    "padding_type='post'\n",
    "oov_tok = \"<XXX>\"\n",
    "training_size = 3807\n",
    "seq_len = 12"
   ]
  },
  {
   "cell_type": "markdown",
   "id": "excess-thanksgiving",
   "metadata": {
    "papermill": {
     "duration": 0.073057,
     "end_time": "2021-05-27T15:47:04.252156",
     "exception": false,
     "start_time": "2021-05-27T15:47:04.179099",
     "status": "completed"
    },
    "tags": []
   },
   "source": [
    "## Train test split"
   ]
  },
  {
   "cell_type": "code",
   "execution_count": 28,
   "id": "electrical-asbestos",
   "metadata": {
    "execution": {
     "iopub.execute_input": "2021-05-27T15:47:04.406402Z",
     "iopub.status.busy": "2021-05-27T15:47:04.405659Z",
     "iopub.status.idle": "2021-05-27T15:47:04.409662Z",
     "shell.execute_reply": "2021-05-27T15:47:04.410215Z",
     "shell.execute_reply.started": "2021-05-27T15:45:20.806955Z"
    },
    "papermill": {
     "duration": 0.082777,
     "end_time": "2021-05-27T15:47:04.410400",
     "exception": false,
     "start_time": "2021-05-27T15:47:04.327623",
     "status": "completed"
    },
    "tags": []
   },
   "outputs": [],
   "source": [
    "X = train['clean_text']\n",
    "y = train['target']"
   ]
  },
  {
   "cell_type": "code",
   "execution_count": 29,
   "id": "changed-vegetable",
   "metadata": {
    "execution": {
     "iopub.execute_input": "2021-05-27T15:47:04.564141Z",
     "iopub.status.busy": "2021-05-27T15:47:04.563432Z",
     "iopub.status.idle": "2021-05-27T15:47:04.570434Z",
     "shell.execute_reply": "2021-05-27T15:47:04.570939Z",
     "shell.execute_reply.started": "2021-05-27T15:45:20.818581Z"
    },
    "papermill": {
     "duration": 0.086342,
     "end_time": "2021-05-27T15:47:04.571137",
     "exception": false,
     "start_time": "2021-05-27T15:47:04.484795",
     "status": "completed"
    },
    "tags": []
   },
   "outputs": [],
   "source": [
    "from sklearn.model_selection import train_test_split\n",
    "np.random.seed(42)\n",
    "\n",
    "X_train, X_valid, y_train, y_valid = train_test_split(X, y, test_size=0.5, random_state=42)"
   ]
  },
  {
   "cell_type": "code",
   "execution_count": 30,
   "id": "aging-universal",
   "metadata": {
    "execution": {
     "iopub.execute_input": "2021-05-27T15:47:04.721992Z",
     "iopub.status.busy": "2021-05-27T15:47:04.721295Z",
     "iopub.status.idle": "2021-05-27T15:47:04.746535Z",
     "shell.execute_reply": "2021-05-27T15:47:04.747046Z",
     "shell.execute_reply.started": "2021-05-27T15:45:20.832568Z"
    },
    "papermill": {
     "duration": 0.102531,
     "end_time": "2021-05-27T15:47:04.747254",
     "exception": false,
     "start_time": "2021-05-27T15:47:04.644723",
     "status": "completed"
    },
    "tags": []
   },
   "outputs": [],
   "source": [
    "from sklearn.model_selection import RepeatedKFold\n",
    "kf = RepeatedKFold(n_splits= 2, n_repeats=10, random_state=42)\n",
    "\n",
    "for train_lines, valid_lines in kf.split(X):\n",
    "    X_train, X_valid = X.iloc[train_lines], X.iloc[valid_lines]\n",
    "    y_train, y_valid = y.iloc[train_lines], y.iloc[valid_lines]"
   ]
  },
  {
   "cell_type": "code",
   "execution_count": 31,
   "id": "parallel-found",
   "metadata": {
    "execution": {
     "iopub.execute_input": "2021-05-27T15:47:04.900663Z",
     "iopub.status.busy": "2021-05-27T15:47:04.899641Z",
     "iopub.status.idle": "2021-05-27T15:47:04.905899Z",
     "shell.execute_reply": "2021-05-27T15:47:04.906848Z",
     "shell.execute_reply.started": "2021-05-27T15:45:20.867178Z"
    },
    "papermill": {
     "duration": 0.085473,
     "end_time": "2021-05-27T15:47:04.907166",
     "exception": false,
     "start_time": "2021-05-27T15:47:04.821693",
     "status": "completed"
    },
    "tags": []
   },
   "outputs": [
    {
     "name": "stdout",
     "output_type": "stream",
     "text": [
      "The Shape of training  (3807,)\n",
      "The Shape of testing (3806,)\n"
     ]
    }
   ],
   "source": [
    "print('The Shape of training ',X_train.shape)\n",
    "print('The Shape of testing',X_valid.shape)"
   ]
  },
  {
   "cell_type": "markdown",
   "id": "sharp-oxford",
   "metadata": {
    "papermill": {
     "duration": 0.07537,
     "end_time": "2021-05-27T15:47:05.057732",
     "exception": false,
     "start_time": "2021-05-27T15:47:04.982362",
     "status": "completed"
    },
    "tags": []
   },
   "source": [
    "## Tokenization"
   ]
  },
  {
   "cell_type": "code",
   "execution_count": 32,
   "id": "listed-venezuela",
   "metadata": {
    "execution": {
     "iopub.execute_input": "2021-05-27T15:47:05.212661Z",
     "iopub.status.busy": "2021-05-27T15:47:05.211657Z",
     "iopub.status.idle": "2021-05-27T15:47:05.216121Z",
     "shell.execute_reply": "2021-05-27T15:47:05.216645Z",
     "shell.execute_reply.started": "2021-05-27T15:45:20.878696Z"
    },
    "papermill": {
     "duration": 0.083473,
     "end_time": "2021-05-27T15:47:05.216829",
     "exception": false,
     "start_time": "2021-05-27T15:47:05.133356",
     "status": "completed"
    },
    "tags": []
   },
   "outputs": [],
   "source": [
    "from tensorflow.keras.preprocessing.text import Tokenizer\n",
    "from tensorflow.keras.preprocessing.sequence import pad_sequences"
   ]
  },
  {
   "cell_type": "code",
   "execution_count": 33,
   "id": "afraid-indication",
   "metadata": {
    "execution": {
     "iopub.execute_input": "2021-05-27T15:47:05.368387Z",
     "iopub.status.busy": "2021-05-27T15:47:05.367386Z",
     "iopub.status.idle": "2021-05-27T15:47:05.443306Z",
     "shell.execute_reply": "2021-05-27T15:47:05.442701Z",
     "shell.execute_reply.started": "2021-05-27T15:45:20.890127Z"
    },
    "papermill": {
     "duration": 0.152779,
     "end_time": "2021-05-27T15:47:05.443454",
     "exception": false,
     "start_time": "2021-05-27T15:47:05.290675",
     "status": "completed"
    },
    "tags": []
   },
   "outputs": [],
   "source": [
    "oov_tok = \"<XXX>\"\n",
    "\n",
    "tokenizer = Tokenizer(num_words=vocab_size, oov_token=oov_tok)\n",
    "tokenizer.fit_on_texts(X_train)"
   ]
  },
  {
   "cell_type": "code",
   "execution_count": 34,
   "id": "victorian-casino",
   "metadata": {
    "execution": {
     "iopub.execute_input": "2021-05-27T15:47:05.600417Z",
     "iopub.status.busy": "2021-05-27T15:47:05.599473Z",
     "iopub.status.idle": "2021-05-27T15:47:05.602368Z",
     "shell.execute_reply": "2021-05-27T15:47:05.601853Z",
     "shell.execute_reply.started": "2021-05-27T15:45:20.978100Z"
    },
    "papermill": {
     "duration": 0.082809,
     "end_time": "2021-05-27T15:47:05.602515",
     "exception": false,
     "start_time": "2021-05-27T15:47:05.519706",
     "status": "completed"
    },
    "tags": []
   },
   "outputs": [],
   "source": [
    "word_index = tokenizer.word_index"
   ]
  },
  {
   "cell_type": "code",
   "execution_count": 35,
   "id": "yellow-particular",
   "metadata": {
    "execution": {
     "iopub.execute_input": "2021-05-27T15:47:05.808219Z",
     "iopub.status.busy": "2021-05-27T15:47:05.775023Z",
     "iopub.status.idle": "2021-05-27T15:47:05.840454Z",
     "shell.execute_reply": "2021-05-27T15:47:05.839762Z",
     "shell.execute_reply.started": "2021-05-27T15:45:20.987021Z"
    },
    "papermill": {
     "duration": 0.164011,
     "end_time": "2021-05-27T15:47:05.840635",
     "exception": false,
     "start_time": "2021-05-27T15:47:05.676624",
     "status": "completed"
    },
    "tags": []
   },
   "outputs": [],
   "source": [
    "training_sequences = tokenizer.texts_to_sequences(X_train)\n",
    "training_padded = pad_sequences(training_sequences, maxlen=max_length, padding=padding_type, truncating=trunc_type)"
   ]
  },
  {
   "cell_type": "code",
   "execution_count": 36,
   "id": "sixth-panel",
   "metadata": {
    "execution": {
     "iopub.execute_input": "2021-05-27T15:47:05.995543Z",
     "iopub.status.busy": "2021-05-27T15:47:05.994869Z",
     "iopub.status.idle": "2021-05-27T15:47:05.998732Z",
     "shell.execute_reply": "2021-05-27T15:47:05.999448Z",
     "shell.execute_reply.started": "2021-05-27T15:45:21.080650Z"
    },
    "papermill": {
     "duration": 0.084448,
     "end_time": "2021-05-27T15:47:05.999699",
     "exception": false,
     "start_time": "2021-05-27T15:47:05.915251",
     "status": "completed"
    },
    "tags": []
   },
   "outputs": [
    {
     "name": "stdout",
     "output_type": "stream",
     "text": [
      "forest fire near la rong saskcanada\n",
      "[17, 2101, 220, 27, 305, 62]\n"
     ]
    }
   ],
   "source": [
    "print(train.clean_text[1])\n",
    "print(training_sequences[1])"
   ]
  },
  {
   "cell_type": "code",
   "execution_count": 37,
   "id": "apart-harvard",
   "metadata": {
    "execution": {
     "iopub.execute_input": "2021-05-27T15:47:06.153712Z",
     "iopub.status.busy": "2021-05-27T15:47:06.152998Z",
     "iopub.status.idle": "2021-05-27T15:47:06.161159Z",
     "shell.execute_reply": "2021-05-27T15:47:06.161680Z",
     "shell.execute_reply.started": "2021-05-27T15:45:21.092375Z"
    },
    "papermill": {
     "duration": 0.086253,
     "end_time": "2021-05-27T15:47:06.161888",
     "exception": false,
     "start_time": "2021-05-27T15:47:06.075635",
     "status": "completed"
    },
    "tags": []
   },
   "outputs": [],
   "source": [
    "reverse_word_index = dict([(value, key) for (key, value) in word_index.items()])"
   ]
  },
  {
   "cell_type": "code",
   "execution_count": 38,
   "id": "quarterly-newton",
   "metadata": {
    "execution": {
     "iopub.execute_input": "2021-05-27T15:47:06.317407Z",
     "iopub.status.busy": "2021-05-27T15:47:06.316715Z",
     "iopub.status.idle": "2021-05-27T15:47:06.326750Z",
     "shell.execute_reply": "2021-05-27T15:47:06.326022Z",
     "shell.execute_reply.started": "2021-05-27T15:45:21.112717Z"
    },
    "papermill": {
     "duration": 0.087972,
     "end_time": "2021-05-27T15:47:06.326906",
     "exception": false,
     "start_time": "2021-05-27T15:47:06.238934",
     "status": "completed"
    },
    "tags": []
   },
   "outputs": [
    {
     "name": "stdout",
     "output_type": "stream",
     "text": [
      "Os primeiros 10 elementos do índice de palavras: \n",
      " 1,  <XXX> \n",
      " 2,  i \n",
      " 3,  s \n",
      " 4,  the \n",
      " 5,  like \n",
      " 6,  fire \n",
      " 7,  get \n",
      " 8,  a \n",
      " 9,  m \n",
      " 10,  new \n",
      " 11,  go \n",
      " 12,  in \n",
      " 13,  bomb \n",
      " 14,  t \n",
      " 15,  u \n"
     ]
    }
   ],
   "source": [
    "# os primeiros 10 elementos\n",
    "print(\"Os primeiros 10 elementos do índice de palavras: \")\n",
    "for x in list(reverse_word_index)[0:15]:\n",
    "    print (\" {},  {} \".format(x,  reverse_word_index[x]))\n"
   ]
  },
  {
   "cell_type": "code",
   "execution_count": 39,
   "id": "cathedral-spyware",
   "metadata": {
    "execution": {
     "iopub.execute_input": "2021-05-27T15:47:06.483512Z",
     "iopub.status.busy": "2021-05-27T15:47:06.482832Z",
     "iopub.status.idle": "2021-05-27T15:47:06.486935Z",
     "shell.execute_reply": "2021-05-27T15:47:06.486179Z",
     "shell.execute_reply.started": "2021-05-27T15:45:21.137251Z"
    },
    "papermill": {
     "duration": 0.0857,
     "end_time": "2021-05-27T15:47:06.487099",
     "exception": false,
     "start_time": "2021-05-27T15:47:06.401399",
     "status": "completed"
    },
    "tags": []
   },
   "outputs": [],
   "source": [
    "def decode(text):\n",
    "    return ' '.join([reverse_word_index.get(i, '?') for i in text])"
   ]
  },
  {
   "cell_type": "code",
   "execution_count": 40,
   "id": "western-travel",
   "metadata": {
    "execution": {
     "iopub.execute_input": "2021-05-27T15:47:06.644612Z",
     "iopub.status.busy": "2021-05-27T15:47:06.643524Z",
     "iopub.status.idle": "2021-05-27T15:47:06.648327Z",
     "shell.execute_reply": "2021-05-27T15:47:06.647625Z",
     "shell.execute_reply.started": "2021-05-27T15:45:21.147317Z"
    },
    "papermill": {
     "duration": 0.085664,
     "end_time": "2021-05-27T15:47:06.648476",
     "exception": false,
     "start_time": "2021-05-27T15:47:06.562812",
     "status": "completed"
    },
    "tags": []
   },
   "outputs": [
    {
     "data": {
      "text/plain": [
       "'peopl receiv wildfir evacu order california'"
      ]
     },
     "execution_count": 40,
     "metadata": {},
     "output_type": "execute_result"
    }
   ],
   "source": [
    "decode(training_sequences[1]) # this can be usefull for check predictions"
   ]
  },
  {
   "cell_type": "code",
   "execution_count": 41,
   "id": "sporting-harvard",
   "metadata": {
    "execution": {
     "iopub.execute_input": "2021-05-27T15:47:06.806012Z",
     "iopub.status.busy": "2021-05-27T15:47:06.804813Z",
     "iopub.status.idle": "2021-05-27T15:47:06.809317Z",
     "shell.execute_reply": "2021-05-27T15:47:06.808812Z",
     "shell.execute_reply.started": "2021-05-27T15:45:21.159859Z"
    },
    "papermill": {
     "duration": 0.08537,
     "end_time": "2021-05-27T15:47:06.809464",
     "exception": false,
     "start_time": "2021-05-27T15:47:06.724094",
     "status": "completed"
    },
    "tags": []
   },
   "outputs": [
    {
     "data": {
      "text/plain": [
       "array([ 606, 1251, 1287,   10, 6689,   21,  909,  807,  288,  121,    0,\n",
       "          0,    0,    0,    0,    0,    0,    0,    0,    0], dtype=int32)"
      ]
     },
     "execution_count": 41,
     "metadata": {},
     "output_type": "execute_result"
    }
   ],
   "source": [
    "training_padded[1628]"
   ]
  },
  {
   "cell_type": "code",
   "execution_count": 42,
   "id": "romance-economics",
   "metadata": {
    "execution": {
     "iopub.execute_input": "2021-05-27T15:47:06.995122Z",
     "iopub.status.busy": "2021-05-27T15:47:06.989873Z",
     "iopub.status.idle": "2021-05-27T15:47:07.051897Z",
     "shell.execute_reply": "2021-05-27T15:47:07.051205Z",
     "shell.execute_reply.started": "2021-05-27T15:45:21.171788Z"
    },
    "papermill": {
     "duration": 0.167164,
     "end_time": "2021-05-27T15:47:07.052047",
     "exception": false,
     "start_time": "2021-05-27T15:47:06.884883",
     "status": "completed"
    },
    "tags": []
   },
   "outputs": [],
   "source": [
    "valid_sequences = tokenizer.texts_to_sequences(X_valid)\n",
    "valid_padded = pad_sequences(valid_sequences, maxlen=max_length, padding=padding_type, truncating=trunc_type)"
   ]
  },
  {
   "cell_type": "markdown",
   "id": "accredited-portland",
   "metadata": {
    "papermill": {
     "duration": 0.074432,
     "end_time": "2021-05-27T15:47:07.205264",
     "exception": false,
     "start_time": "2021-05-27T15:47:07.130832",
     "status": "completed"
    },
    "tags": []
   },
   "source": [
    "# Construindo a rede neural"
   ]
  },
  {
   "cell_type": "code",
   "execution_count": 43,
   "id": "compound-south",
   "metadata": {
    "execution": {
     "iopub.execute_input": "2021-05-27T15:47:07.363311Z",
     "iopub.status.busy": "2021-05-27T15:47:07.362604Z",
     "iopub.status.idle": "2021-05-27T15:47:08.040990Z",
     "shell.execute_reply": "2021-05-27T15:47:08.040165Z",
     "shell.execute_reply.started": "2021-05-27T15:45:21.283162Z"
    },
    "papermill": {
     "duration": 0.76097,
     "end_time": "2021-05-27T15:47:08.041153",
     "exception": false,
     "start_time": "2021-05-27T15:47:07.280183",
     "status": "completed"
    },
    "tags": []
   },
   "outputs": [],
   "source": [
    "model = Sequential([\n",
    "    tf.keras.layers.Embedding(vocab_size, embedding_dim, input_length=max_length),\n",
    "    tf.keras.layers.Bidirectional(tf.keras.layers.LSTM(64)),\n",
    "    tf.keras.layers.Dense(units = 14, activation = 'relu'),\n",
    "    tf.keras.layers.Dense(units = 1, activation = 'sigmoid')\n",
    "])\n",
    "\n",
    "model.compile(optimizer = 'adam', loss = 'binary_crossentropy', metrics = ['accuracy'])"
   ]
  },
  {
   "cell_type": "code",
   "execution_count": 44,
   "id": "prime-yugoslavia",
   "metadata": {
    "execution": {
     "iopub.execute_input": "2021-05-27T15:47:08.203526Z",
     "iopub.status.busy": "2021-05-27T15:47:08.202564Z",
     "iopub.status.idle": "2021-05-27T15:47:08.208176Z",
     "shell.execute_reply": "2021-05-27T15:47:08.207514Z",
     "shell.execute_reply.started": "2021-05-27T15:45:23.271032Z"
    },
    "papermill": {
     "duration": 0.090107,
     "end_time": "2021-05-27T15:47:08.208321",
     "exception": false,
     "start_time": "2021-05-27T15:47:08.118214",
     "status": "completed"
    },
    "tags": []
   },
   "outputs": [
    {
     "name": "stdout",
     "output_type": "stream",
     "text": [
      "Model: \"sequential\"\n",
      "_________________________________________________________________\n",
      "Layer (type)                 Output Shape              Param #   \n",
      "=================================================================\n",
      "embedding (Embedding)        (None, 20, 32)            571648    \n",
      "_________________________________________________________________\n",
      "bidirectional (Bidirectional (None, 128)               49664     \n",
      "_________________________________________________________________\n",
      "dense (Dense)                (None, 14)                1806      \n",
      "_________________________________________________________________\n",
      "dense_1 (Dense)              (None, 1)                 15        \n",
      "=================================================================\n",
      "Total params: 623,133\n",
      "Trainable params: 623,133\n",
      "Non-trainable params: 0\n",
      "_________________________________________________________________\n"
     ]
    }
   ],
   "source": [
    "model.summary()"
   ]
  },
  {
   "cell_type": "code",
   "execution_count": 45,
   "id": "addressed-diversity",
   "metadata": {
    "execution": {
     "iopub.execute_input": "2021-05-27T15:47:08.367635Z",
     "iopub.status.busy": "2021-05-27T15:47:08.366480Z",
     "iopub.status.idle": "2021-05-27T15:47:08.880460Z",
     "shell.execute_reply": "2021-05-27T15:47:08.879830Z",
     "shell.execute_reply.started": "2021-05-27T15:45:23.284483Z"
    },
    "papermill": {
     "duration": 0.595751,
     "end_time": "2021-05-27T15:47:08.880669",
     "exception": false,
     "start_time": "2021-05-27T15:47:08.284918",
     "status": "completed"
    },
    "tags": []
   },
   "outputs": [
    {
     "data": {
      "image/png": "[encoded data removed]",
      "text/plain": [
       "<IPython.core.display.Image object>"
      ]
     },
     "execution_count": 45,
     "metadata": {},
     "output_type": "execute_result"
    }
   ],
   "source": [
    "from tensorflow.keras.utils import plot_model\n",
    "plot_model(model, to_file='model_plot4a.png', show_shapes=True, show_layer_names=True)"
   ]
  },
  {
   "cell_type": "markdown",
   "id": "amino-experience",
   "metadata": {
    "papermill": {
     "duration": 0.076969,
     "end_time": "2021-05-27T15:47:09.038717",
     "exception": false,
     "start_time": "2021-05-27T15:47:08.961748",
     "status": "completed"
    },
    "tags": []
   },
   "source": [
    "## Treinando o modelo"
   ]
  },
  {
   "cell_type": "code",
   "execution_count": 46,
   "id": "small-parcel",
   "metadata": {
    "execution": {
     "iopub.execute_input": "2021-05-27T15:47:09.203819Z",
     "iopub.status.busy": "2021-05-27T15:47:09.203023Z",
     "iopub.status.idle": "2021-05-27T15:47:43.291745Z",
     "shell.execute_reply": "2021-05-27T15:47:43.290709Z",
     "shell.execute_reply.started": "2021-05-27T15:45:23.458289Z"
    },
    "papermill": {
     "duration": 34.174123,
     "end_time": "2021-05-27T15:47:43.291928",
     "exception": false,
     "start_time": "2021-05-27T15:47:09.117805",
     "status": "completed"
    },
    "tags": []
   },
   "outputs": [
    {
     "name": "stdout",
     "output_type": "stream",
     "text": [
      "Epoch 1/10\n",
      "119/119 [==============================] - 8s 35ms/step - loss: 0.6709 - accuracy: 0.5721 - val_loss: 0.5168 - val_accuracy: 0.7496\n",
      "Epoch 2/10\n",
      "119/119 [==============================] - 3s 24ms/step - loss: 0.3284 - accuracy: 0.8680 - val_loss: 0.6022 - val_accuracy: 0.7580\n",
      "Epoch 3/10\n",
      "119/119 [==============================] - 3s 26ms/step - loss: 0.1453 - accuracy: 0.9547 - val_loss: 0.6823 - val_accuracy: 0.7604\n",
      "Epoch 4/10\n",
      "119/119 [==============================] - 3s 25ms/step - loss: 0.0755 - accuracy: 0.9772 - val_loss: 0.6022 - val_accuracy: 0.7533\n",
      "Epoch 5/10\n",
      "119/119 [==============================] - 3s 25ms/step - loss: 0.0603 - accuracy: 0.9848 - val_loss: 0.8304 - val_accuracy: 0.7580\n",
      "Epoch 6/10\n",
      "119/119 [==============================] - 3s 24ms/step - loss: 0.0431 - accuracy: 0.9876 - val_loss: 0.7386 - val_accuracy: 0.7417\n",
      "Epoch 7/10\n",
      "119/119 [==============================] - 3s 24ms/step - loss: 0.0448 - accuracy: 0.9880 - val_loss: 0.8640 - val_accuracy: 0.7509\n",
      "Epoch 8/10\n",
      "119/119 [==============================] - 3s 24ms/step - loss: 0.0421 - accuracy: 0.9832 - val_loss: 0.9582 - val_accuracy: 0.7475\n",
      "Epoch 9/10\n",
      "119/119 [==============================] - 3s 25ms/step - loss: 0.0369 - accuracy: 0.9849 - val_loss: 0.7048 - val_accuracy: 0.7504\n",
      "Epoch 10/10\n",
      "119/119 [==============================] - 3s 23ms/step - loss: 0.0340 - accuracy: 0.9850 - val_loss: 0.8115 - val_accuracy: 0.7470\n",
      "The time in minutos: 0.5680625398953756\n"
     ]
    }
   ],
   "source": [
    "import time\n",
    "start_time = time.time()\n",
    "\n",
    "num_epochs = 10\n",
    "history = model.fit(training_padded, y_train, epochs=num_epochs, validation_data=(valid_padded, y_valid))\n",
    "\n",
    "final_time = (time.time()- start_time)/60\n",
    "print(f'The time in minutos: {final_time}')"
   ]
  },
  {
   "cell_type": "code",
   "execution_count": 47,
   "id": "civilian-observer",
   "metadata": {
    "execution": {
     "iopub.execute_input": "2021-05-27T15:47:43.697529Z",
     "iopub.status.busy": "2021-05-27T15:47:43.696886Z",
     "iopub.status.idle": "2021-05-27T15:47:43.709701Z",
     "shell.execute_reply": "2021-05-27T15:47:43.710156Z",
     "shell.execute_reply.started": "2021-05-27T15:45:49.627850Z"
    },
    "papermill": {
     "duration": 0.216092,
     "end_time": "2021-05-27T15:47:43.710354",
     "exception": false,
     "start_time": "2021-05-27T15:47:43.494262",
     "status": "completed"
    },
    "tags": []
   },
   "outputs": [
    {
     "data": {
      "text/html": [
       "<div>\n",
       "<style scoped>\n",
       "    .dataframe tbody tr th:only-of-type {\n",
       "        vertical-align: middle;\n",
       "    }\n",
       "\n",
       "    .dataframe tbody tr th {\n",
       "        vertical-align: top;\n",
       "    }\n",
       "\n",
       "    .dataframe thead th {\n",
       "        text-align: right;\n",
       "    }\n",
       "</style>\n",
       "<table border=\"1\" class=\"dataframe\">\n",
       "  <thead>\n",
       "    <tr style=\"text-align: right;\">\n",
       "      <th></th>\n",
       "      <th>loss</th>\n",
       "      <th>accuracy</th>\n",
       "      <th>val_loss</th>\n",
       "      <th>val_accuracy</th>\n",
       "    </tr>\n",
       "  </thead>\n",
       "  <tbody>\n",
       "    <tr>\n",
       "      <th>0</th>\n",
       "      <td>0.625784</td>\n",
       "      <td>0.645653</td>\n",
       "      <td>0.516809</td>\n",
       "      <td>0.749606</td>\n",
       "    </tr>\n",
       "    <tr>\n",
       "      <th>1</th>\n",
       "      <td>0.329095</td>\n",
       "      <td>0.866562</td>\n",
       "      <td>0.602190</td>\n",
       "      <td>0.758014</td>\n",
       "    </tr>\n",
       "    <tr>\n",
       "      <th>2</th>\n",
       "      <td>0.143279</td>\n",
       "      <td>0.954032</td>\n",
       "      <td>0.682344</td>\n",
       "      <td>0.760378</td>\n",
       "    </tr>\n",
       "    <tr>\n",
       "      <th>3</th>\n",
       "      <td>0.086854</td>\n",
       "      <td>0.975834</td>\n",
       "      <td>0.602234</td>\n",
       "      <td>0.753284</td>\n",
       "    </tr>\n",
       "    <tr>\n",
       "      <th>4</th>\n",
       "      <td>0.070521</td>\n",
       "      <td>0.980037</td>\n",
       "      <td>0.830418</td>\n",
       "      <td>0.758014</td>\n",
       "    </tr>\n",
       "  </tbody>\n",
       "</table>\n",
       "</div>"
      ],
      "text/plain": [
       "       loss  accuracy  val_loss  val_accuracy\n",
       "0  0.625784  0.645653  0.516809      0.749606\n",
       "1  0.329095  0.866562  0.602190      0.758014\n",
       "2  0.143279  0.954032  0.682344      0.760378\n",
       "3  0.086854  0.975834  0.602234      0.753284\n",
       "4  0.070521  0.980037  0.830418      0.758014"
      ]
     },
     "execution_count": 47,
     "metadata": {},
     "output_type": "execute_result"
    }
   ],
   "source": [
    "model_loss = pd.DataFrame(model.history.history)\n",
    "model_loss.head()"
   ]
  },
  {
   "cell_type": "code",
   "execution_count": 48,
   "id": "convinced-glossary",
   "metadata": {
    "execution": {
     "iopub.execute_input": "2021-05-27T15:47:44.126301Z",
     "iopub.status.busy": "2021-05-27T15:47:44.125440Z",
     "iopub.status.idle": "2021-05-27T15:47:44.308177Z",
     "shell.execute_reply": "2021-05-27T15:47:44.308713Z",
     "shell.execute_reply.started": "2021-05-27T15:45:49.646525Z"
    },
    "papermill": {
     "duration": 0.393972,
     "end_time": "2021-05-27T15:47:44.308893",
     "exception": false,
     "start_time": "2021-05-27T15:47:43.914921",
     "status": "completed"
    },
    "tags": []
   },
   "outputs": [
    {
     "data": {
      "image/png": "[encoded data removed]",
      "text/plain": [
       "<Figure size 432x288 with 1 Axes>"
      ]
     },
     "metadata": {
      "needs_background": "light"
     },
     "output_type": "display_data"
    }
   ],
   "source": [
    "# verificando no gráfico o desempenho do modelo\n",
    "model_loss[['accuracy','val_accuracy']].plot(ylim=[0,1]);"
   ]
  },
  {
   "cell_type": "markdown",
   "id": "promising-explorer",
   "metadata": {
    "papermill": {
     "duration": 0.204518,
     "end_time": "2021-05-27T15:47:44.720825",
     "exception": false,
     "start_time": "2021-05-27T15:47:44.516307",
     "status": "completed"
    },
    "tags": []
   },
   "source": [
    "## Validando o modelo"
   ]
  },
  {
   "cell_type": "code",
   "execution_count": 49,
   "id": "emerging-algeria",
   "metadata": {
    "execution": {
     "iopub.execute_input": "2021-05-27T15:47:45.137951Z",
     "iopub.status.busy": "2021-05-27T15:47:45.137141Z",
     "iopub.status.idle": "2021-05-27T15:47:46.437229Z",
     "shell.execute_reply": "2021-05-27T15:47:46.436506Z",
     "shell.execute_reply.started": "2021-05-27T15:45:49.834897Z"
    },
    "papermill": {
     "duration": 1.51261,
     "end_time": "2021-05-27T15:47:46.437371",
     "exception": false,
     "start_time": "2021-05-27T15:47:44.924761",
     "status": "completed"
    },
    "tags": []
   },
   "outputs": [],
   "source": [
    "#predictions = model.predict_classes(valid_padded)   # predict_ clases because is classification problem with the split test\n",
    "predictions = np.argmax(model.predict(valid_padded), axis=-1)"
   ]
  },
  {
   "cell_type": "code",
   "execution_count": 50,
   "id": "solar-colors",
   "metadata": {
    "execution": {
     "iopub.execute_input": "2021-05-27T15:47:46.849266Z",
     "iopub.status.busy": "2021-05-27T15:47:46.848458Z",
     "iopub.status.idle": "2021-05-27T15:47:46.853086Z",
     "shell.execute_reply": "2021-05-27T15:47:46.852510Z",
     "shell.execute_reply.started": "2021-05-27T15:45:50.943950Z"
    },
    "papermill": {
     "duration": 0.212813,
     "end_time": "2021-05-27T15:47:46.853306",
     "exception": false,
     "start_time": "2021-05-27T15:47:46.640493",
     "status": "completed"
    },
    "tags": []
   },
   "outputs": [
    {
     "data": {
      "text/plain": [
       "array([0, 0, 0, ..., 0, 0, 0])"
      ]
     },
     "execution_count": 50,
     "metadata": {},
     "output_type": "execute_result"
    }
   ],
   "source": [
    "predictions"
   ]
  },
  {
   "cell_type": "markdown",
   "id": "approximate-grammar",
   "metadata": {
    "papermill": {
     "duration": 0.203377,
     "end_time": "2021-05-27T15:47:47.261241",
     "exception": false,
     "start_time": "2021-05-27T15:47:47.057864",
     "status": "completed"
    },
    "tags": []
   },
   "source": [
    "## Matriz de confusão"
   ]
  },
  {
   "cell_type": "code",
   "execution_count": 51,
   "id": "stuffed-material",
   "metadata": {
    "execution": {
     "iopub.execute_input": "2021-05-27T15:47:47.685509Z",
     "iopub.status.busy": "2021-05-27T15:47:47.682191Z",
     "iopub.status.idle": "2021-05-27T15:47:47.689189Z",
     "shell.execute_reply": "2021-05-27T15:47:47.688586Z",
     "shell.execute_reply.started": "2021-05-27T15:45:50.958549Z"
    },
    "papermill": {
     "duration": 0.223433,
     "end_time": "2021-05-27T15:47:47.689343",
     "exception": false,
     "start_time": "2021-05-27T15:47:47.465910",
     "status": "completed"
    },
    "tags": []
   },
   "outputs": [],
   "source": [
    "# matriz de confusão\n",
    "def plot_cm(y_true, y_pred, title, figsize=(5,4)):\n",
    "    cm = confusion_matrix(y_true, y_pred, labels=np.unique(y_true))\n",
    "    cm_sum = np.sum(cm, axis=1, keepdims=True)\n",
    "    cm_perc = cm / cm_sum.astype(float) * 100\n",
    "    annot = np.empty_like(cm).astype(str)\n",
    "    nrows, ncols = cm.shape\n",
    "    for i in range(nrows):\n",
    "        for j in range(ncols):\n",
    "            c = cm[i, j]\n",
    "            p = cm_perc[i, j]\n",
    "            if i == j:\n",
    "                s = cm_sum[i]\n",
    "                annot[i, j] = '%.1f%%\\n%d/%d' % (p, c, s)\n",
    "            elif c == 0:\n",
    "                annot[i, j] = ''\n",
    "            else:\n",
    "                annot[i, j] = '%.1f%%\\n%d' % (p, c)\n",
    "    cm = pd.DataFrame(cm, index=np.unique(y_true), columns=np.unique(y_true))\n",
    "    cm.index.name = 'Atual'\n",
    "    cm.columns.name = 'Predicted'\n",
    "    fig, ax = plt.subplots(figsize=figsize)\n",
    "    plt.title(title)\n",
    "    sns.heatmap(cm, cmap= \"YlGnBu\", annot=annot, fmt='', ax=ax)"
   ]
  },
  {
   "cell_type": "code",
   "execution_count": 52,
   "id": "administrative-harassment",
   "metadata": {
    "execution": {
     "iopub.execute_input": "2021-05-27T15:47:48.102187Z",
     "iopub.status.busy": "2021-05-27T15:47:48.101142Z",
     "iopub.status.idle": "2021-05-27T15:47:48.372719Z",
     "shell.execute_reply": "2021-05-27T15:47:48.373260Z",
     "shell.execute_reply.started": "2021-05-27T15:45:50.974235Z"
    },
    "papermill": {
     "duration": 0.482511,
     "end_time": "2021-05-27T15:47:48.373445",
     "exception": false,
     "start_time": "2021-05-27T15:47:47.890934",
     "status": "completed"
    },
    "tags": []
   },
   "outputs": [
    {
     "data": {
      "image/png": "[encoded data removed]",
      "text/plain": [
       "<Figure size 504x504 with 2 Axes>"
      ]
     },
     "metadata": {
      "needs_background": "light"
     },
     "output_type": "display_data"
    }
   ],
   "source": [
    "# plotando o gráfico\n",
    "plot_cm(y_valid, predictions, 'Matriz de confusão dos tweets', figsize=(7,7))"
   ]
  },
  {
   "cell_type": "markdown",
   "id": "ultimate-gibraltar",
   "metadata": {
    "papermill": {
     "duration": 0.202638,
     "end_time": "2021-05-27T15:47:48.778894",
     "exception": false,
     "start_time": "2021-05-27T15:47:48.576256",
     "status": "completed"
    },
    "tags": []
   },
   "source": [
    "# Conjunto de dados do test"
   ]
  },
  {
   "cell_type": "code",
   "execution_count": 53,
   "id": "smooth-workstation",
   "metadata": {
    "execution": {
     "iopub.execute_input": "2021-05-27T15:47:49.193239Z",
     "iopub.status.busy": "2021-05-27T15:47:49.192528Z",
     "iopub.status.idle": "2021-05-27T15:47:49.266675Z",
     "shell.execute_reply": "2021-05-27T15:47:49.267213Z",
     "shell.execute_reply.started": "2021-05-27T15:46:04.755580Z"
    },
    "papermill": {
     "duration": 0.284051,
     "end_time": "2021-05-27T15:47:49.267406",
     "exception": false,
     "start_time": "2021-05-27T15:47:48.983355",
     "status": "completed"
    },
    "tags": []
   },
   "outputs": [],
   "source": [
    "testing_sequences1 = tokenizer.texts_to_sequences(test.clean_text)\n",
    "testing_padded1 = pad_sequences(testing_sequences1, maxlen=max_length, padding=padding_type, truncating=trunc_type)"
   ]
  },
  {
   "cell_type": "code",
   "execution_count": 54,
   "id": "bored-interest",
   "metadata": {
    "execution": {
     "iopub.execute_input": "2021-05-27T15:47:49.678250Z",
     "iopub.status.busy": "2021-05-27T15:47:49.677532Z",
     "iopub.status.idle": "2021-05-27T15:47:50.183119Z",
     "shell.execute_reply": "2021-05-27T15:47:50.182053Z",
     "shell.execute_reply.started": "2021-05-27T15:46:09.667895Z"
    },
    "papermill": {
     "duration": 0.713344,
     "end_time": "2021-05-27T15:47:50.183358",
     "exception": false,
     "start_time": "2021-05-27T15:47:49.470014",
     "status": "completed"
    },
    "tags": []
   },
   "outputs": [],
   "source": [
    "predictions = model.predict(testing_padded1)"
   ]
  },
  {
   "cell_type": "markdown",
   "id": "private-missile",
   "metadata": {
    "papermill": {
     "duration": 0.202172,
     "end_time": "2021-05-27T15:47:50.591072",
     "exception": false,
     "start_time": "2021-05-27T15:47:50.388900",
     "status": "completed"
    },
    "tags": []
   },
   "source": [
    "# Submissão"
   ]
  },
  {
   "cell_type": "code",
   "execution_count": 55,
   "id": "innovative-stretch",
   "metadata": {
    "execution": {
     "iopub.execute_input": "2021-05-27T15:47:51.004216Z",
     "iopub.status.busy": "2021-05-27T15:47:51.003452Z",
     "iopub.status.idle": "2021-05-27T15:47:51.021134Z",
     "shell.execute_reply": "2021-05-27T15:47:51.020379Z",
     "shell.execute_reply.started": "2021-05-27T15:46:10.029527Z"
    },
    "papermill": {
     "duration": 0.227371,
     "end_time": "2021-05-27T15:47:51.021292",
     "exception": false,
     "start_time": "2021-05-27T15:47:50.793921",
     "status": "completed"
    },
    "tags": []
   },
   "outputs": [],
   "source": [
    "submission =  pd.read_csv(\"/kaggle/input/nlp-getting-started/sample_submission.csv\")"
   ]
  },
  {
   "cell_type": "code",
   "execution_count": 56,
   "id": "literary-funds",
   "metadata": {
    "execution": {
     "iopub.execute_input": "2021-05-27T15:47:51.444249Z",
     "iopub.status.busy": "2021-05-27T15:47:51.443468Z",
     "iopub.status.idle": "2021-05-27T15:47:51.452087Z",
     "shell.execute_reply": "2021-05-27T15:47:51.451418Z",
     "shell.execute_reply.started": "2021-05-27T15:46:10.048514Z"
    },
    "papermill": {
     "duration": 0.223016,
     "end_time": "2021-05-27T15:47:51.452251",
     "exception": false,
     "start_time": "2021-05-27T15:47:51.229235",
     "status": "completed"
    },
    "tags": []
   },
   "outputs": [
    {
     "data": {
      "text/html": [
       "<div>\n",
       "<style scoped>\n",
       "    .dataframe tbody tr th:only-of-type {\n",
       "        vertical-align: middle;\n",
       "    }\n",
       "\n",
       "    .dataframe tbody tr th {\n",
       "        vertical-align: top;\n",
       "    }\n",
       "\n",
       "    .dataframe thead th {\n",
       "        text-align: right;\n",
       "    }\n",
       "</style>\n",
       "<table border=\"1\" class=\"dataframe\">\n",
       "  <thead>\n",
       "    <tr style=\"text-align: right;\">\n",
       "      <th></th>\n",
       "      <th>id</th>\n",
       "      <th>target</th>\n",
       "    </tr>\n",
       "  </thead>\n",
       "  <tbody>\n",
       "    <tr>\n",
       "      <th>0</th>\n",
       "      <td>0</td>\n",
       "      <td>0</td>\n",
       "    </tr>\n",
       "    <tr>\n",
       "      <th>1</th>\n",
       "      <td>2</td>\n",
       "      <td>0</td>\n",
       "    </tr>\n",
       "    <tr>\n",
       "      <th>2</th>\n",
       "      <td>3</td>\n",
       "      <td>0</td>\n",
       "    </tr>\n",
       "    <tr>\n",
       "      <th>3</th>\n",
       "      <td>9</td>\n",
       "      <td>0</td>\n",
       "    </tr>\n",
       "    <tr>\n",
       "      <th>4</th>\n",
       "      <td>11</td>\n",
       "      <td>0</td>\n",
       "    </tr>\n",
       "  </tbody>\n",
       "</table>\n",
       "</div>"
      ],
      "text/plain": [
       "   id  target\n",
       "0   0       0\n",
       "1   2       0\n",
       "2   3       0\n",
       "3   9       0\n",
       "4  11       0"
      ]
     },
     "execution_count": 56,
     "metadata": {},
     "output_type": "execute_result"
    }
   ],
   "source": [
    "submission.head()"
   ]
  },
  {
   "cell_type": "code",
   "execution_count": 57,
   "id": "forty-compound",
   "metadata": {
    "execution": {
     "iopub.execute_input": "2021-05-27T15:47:51.866201Z",
     "iopub.status.busy": "2021-05-27T15:47:51.865229Z",
     "iopub.status.idle": "2021-05-27T15:47:51.877266Z",
     "shell.execute_reply": "2021-05-27T15:47:51.877743Z",
     "shell.execute_reply.started": "2021-05-27T15:46:10.066957Z"
    },
    "papermill": {
     "duration": 0.220256,
     "end_time": "2021-05-27T15:47:51.877921",
     "exception": false,
     "start_time": "2021-05-27T15:47:51.657665",
     "status": "completed"
    },
    "tags": []
   },
   "outputs": [
    {
     "data": {
      "text/html": [
       "<div>\n",
       "<style scoped>\n",
       "    .dataframe tbody tr th:only-of-type {\n",
       "        vertical-align: middle;\n",
       "    }\n",
       "\n",
       "    .dataframe tbody tr th {\n",
       "        vertical-align: top;\n",
       "    }\n",
       "\n",
       "    .dataframe thead th {\n",
       "        text-align: right;\n",
       "    }\n",
       "</style>\n",
       "<table border=\"1\" class=\"dataframe\">\n",
       "  <thead>\n",
       "    <tr style=\"text-align: right;\">\n",
       "      <th></th>\n",
       "      <th>id</th>\n",
       "      <th>target</th>\n",
       "    </tr>\n",
       "  </thead>\n",
       "  <tbody>\n",
       "    <tr>\n",
       "      <th>0</th>\n",
       "      <td>0</td>\n",
       "      <td>1</td>\n",
       "    </tr>\n",
       "    <tr>\n",
       "      <th>1</th>\n",
       "      <td>2</td>\n",
       "      <td>1</td>\n",
       "    </tr>\n",
       "    <tr>\n",
       "      <th>2</th>\n",
       "      <td>3</td>\n",
       "      <td>1</td>\n",
       "    </tr>\n",
       "    <tr>\n",
       "      <th>3</th>\n",
       "      <td>9</td>\n",
       "      <td>1</td>\n",
       "    </tr>\n",
       "    <tr>\n",
       "      <th>4</th>\n",
       "      <td>11</td>\n",
       "      <td>1</td>\n",
       "    </tr>\n",
       "    <tr>\n",
       "      <th>...</th>\n",
       "      <td>...</td>\n",
       "      <td>...</td>\n",
       "    </tr>\n",
       "    <tr>\n",
       "      <th>3258</th>\n",
       "      <td>10861</td>\n",
       "      <td>1</td>\n",
       "    </tr>\n",
       "    <tr>\n",
       "      <th>3259</th>\n",
       "      <td>10865</td>\n",
       "      <td>0</td>\n",
       "    </tr>\n",
       "    <tr>\n",
       "      <th>3260</th>\n",
       "      <td>10868</td>\n",
       "      <td>0</td>\n",
       "    </tr>\n",
       "    <tr>\n",
       "      <th>3261</th>\n",
       "      <td>10874</td>\n",
       "      <td>1</td>\n",
       "    </tr>\n",
       "    <tr>\n",
       "      <th>3262</th>\n",
       "      <td>10875</td>\n",
       "      <td>1</td>\n",
       "    </tr>\n",
       "  </tbody>\n",
       "</table>\n",
       "<p>3263 rows × 2 columns</p>\n",
       "</div>"
      ],
      "text/plain": [
       "         id  target\n",
       "0         0       1\n",
       "1         2       1\n",
       "2         3       1\n",
       "3         9       1\n",
       "4        11       1\n",
       "...     ...     ...\n",
       "3258  10861       1\n",
       "3259  10865       0\n",
       "3260  10868       0\n",
       "3261  10874       1\n",
       "3262  10875       1\n",
       "\n",
       "[3263 rows x 2 columns]"
      ]
     },
     "execution_count": 57,
     "metadata": {},
     "output_type": "execute_result"
    }
   ],
   "source": [
    "submission['target'] = (predictions > 0.5).astype(int)\n",
    "submission"
   ]
  },
  {
   "cell_type": "code",
   "execution_count": 58,
   "id": "local-syndicate",
   "metadata": {
    "execution": {
     "iopub.execute_input": "2021-05-27T15:47:52.297061Z",
     "iopub.status.busy": "2021-05-27T15:47:52.296365Z",
     "iopub.status.idle": "2021-05-27T15:47:52.311330Z",
     "shell.execute_reply": "2021-05-27T15:47:52.310632Z",
     "shell.execute_reply.started": "2021-05-27T15:46:10.091257Z"
    },
    "papermill": {
     "duration": 0.227854,
     "end_time": "2021-05-27T15:47:52.311482",
     "exception": false,
     "start_time": "2021-05-27T15:47:52.083628",
     "status": "completed"
    },
    "tags": []
   },
   "outputs": [],
   "source": [
    "submission.to_csv('submission.csv', index=False, header=True)"
   ]
  }
 ],
 "metadata": {
  "kernelspec": {
   "display_name": "Python 3",
   "language": "python",
   "name": "python3"
  },
  "language_info": {
   "codemirror_mode": {
    "name": "ipython",
    "version": 3
   },
   "file_extension": ".py",
   "mimetype": "text/x-python",
   "name": "python",
   "nbconvert_exporter": "python",
   "pygments_lexer": "ipython3",
   "version": "3.7.9"
  },
  "papermill": {
   "default_parameters": {},
   "duration": 83.561508,
   "end_time": "2021-05-27T15:47:54.632919",
   "environment_variables": {},
   "exception": null,
   "input_path": "__notebook__.ipynb",
   "output_path": "__notebook__.ipynb",
   "parameters": {},
   "start_time": "2021-05-27T15:46:31.071411",
   "version": "2.3.2"
  }
 },
 "nbformat": 4,
 "nbformat_minor": 5
}
